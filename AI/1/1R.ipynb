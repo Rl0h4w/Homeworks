{
  "cells": [
    {
      "cell_type": "markdown",
      "metadata": {
        "id": "Kx5w3K80Cyzg"
      },
      "source": [
        "# Домашнее задание по теме «Табличные данные и визуализация»\n",
        "\n",
        "Сегодня тебе предстоит изучить датасет Student Depression. Надеемся, что выводы, которые ты сделаешь после анализа датасета, пригодятся тебе в реальной жизни!\n",
        "\n",
        "Обрати внимание, что около каждой задачи указано количество баллов, которое можно получить за её выполнение.\n",
        "\n"
      ]
    },
    {
      "cell_type": "markdown",
      "metadata": {
        "id": "gQCXodGgxx3f"
      },
      "source": [
        "# Правила сдачи ДЗ\n",
        "1) Нельзя удалять существующие ячейки кода\n",
        "\n",
        "2) Можно дописывать свои ячейки кода\n",
        "\n",
        "3) Как правило, место для вашего кода дополнительно помечается комментариями\n",
        "\n",
        "4) Ответ на задачу \"из ниоткуда\", то есть без прикреплённого кода, дающего ответ, не засчитывается. Исключением являются вопросы \"на подумать\", в которых вся информация уже известна, и нужно лишь сделать из неё выводы\n",
        "\n",
        "5) Если не сказано иного, наличие работоспособного кода обязательно. При проверке должна быть возможность воспроизвести все полученные результаты\n"
      ]
    },
    {
      "cell_type": "markdown",
      "metadata": {
        "id": "AFOFhLJaBarQ"
      },
      "source": [
        "## Рекомендации\n",
        "\n",
        "- Если забыл, как пользоваться Seaborn, читай [документацию](https://seaborn.pydata.org/).\n",
        "- Пиши выводы максимально подробно.\n",
        "- Подписывай графики оси и выводи легенды для визуализаций."
      ]
    },
    {
      "cell_type": "markdown",
      "metadata": {
        "id": "KyDTweY73zif"
      },
      "source": [
        "## Установка библиотек\n",
        "\n",
        "Для начала импортируй необходимые пакеты."
      ]
    },
    {
      "cell_type": "code",
      "execution_count": 15,
      "metadata": {
        "id": "G1WPgM36ODn-"
      },
      "outputs": [],
      "source": [
        "import pandas as pd\n",
        "\n",
        "import matplotlib.pyplot as plt\n",
        "import seaborn as sns"
      ]
    },
    {
      "cell_type": "markdown",
      "metadata": {
        "id": "-UbS8q3XQRi5"
      },
      "source": [
        "## Задача 1 [2 балла]\n",
        "\n",
        "Необходимые данные хранятся по [ссылке](https://drive.google.com/file/d/1WdZxvQQQH9MGTOH2yIjjewd0KuEsrZvl/view?usp=drive_link). Загрузи их в ноутбук.\n",
        "\n",
        "1. Воспользуйся командой `gdown` для загрузки данных. **[0,5 балла]**\n",
        "2. Считай их с помощью Pandas. **[0,5 балла]**\n",
        "3. Выведи датасет на экран. **[0,5 балла]**\n",
        "4. Исключи переменную `id` или сделай её индексом. Можешь выбрать любой вариант. **[0,5 балла]**"
      ]
    },
    {
      "cell_type": "code",
      "execution_count": null,
      "metadata": {
        "id": "wdUSwdvUQEMD"
      },
      "outputs": [
        {
          "name": "stdout",
          "output_type": "stream",
          "text": [
            "/home/rostislav-lokhov/Homeworks/AI/.venv/lib/python3.12/site-packages/gdown/__main__.py:140: FutureWarning: Option `--id` was deprecated in version 4.3.1 and will be removed in 5.0. You don't need to pass it anymore to use a file ID.\n",
            "  warnings.warn(\n",
            "Downloading...\n",
            "From: https://drive.google.com/uc?id=1WdZxvQQQH9MGTOH2yIjjewd0KuEsrZvl\n",
            "To: /home/rostislav-lokhov/Homeworks/AI/Datasets/1.csv\n",
            "100%|███████████████████████████████████████| 2.81M/2.81M [00:03<00:00, 852kB/s]\n"
          ]
        }
      ],
      "source": [
        "# 1. Загрузи файл\n",
        "!gdown --id 1WdZxvQQQH9MGTOH2yIjjewd0KuEsrZvl -O Datasets/1.1.csv"
      ]
    },
    {
      "cell_type": "code",
      "execution_count": 17,
      "metadata": {
        "id": "O2KoKn9mQLER"
      },
      "outputs": [],
      "source": [
        "# 2. Считай датасет\n",
        "df = pd.read_csv(\"Datasets/1.csv\", index_col=\"id\")"
      ]
    },
    {
      "cell_type": "code",
      "execution_count": 18,
      "metadata": {
        "id": "DK09ghKXQa2r"
      },
      "outputs": [
        {
          "data": {
            "text/html": [
              "<div>\n",
              "<style scoped>\n",
              "    .dataframe tbody tr th:only-of-type {\n",
              "        vertical-align: middle;\n",
              "    }\n",
              "\n",
              "    .dataframe tbody tr th {\n",
              "        vertical-align: top;\n",
              "    }\n",
              "\n",
              "    .dataframe thead th {\n",
              "        text-align: right;\n",
              "    }\n",
              "</style>\n",
              "<table border=\"1\" class=\"dataframe\">\n",
              "  <thead>\n",
              "    <tr style=\"text-align: right;\">\n",
              "      <th></th>\n",
              "      <th>Gender</th>\n",
              "      <th>Age</th>\n",
              "      <th>City</th>\n",
              "      <th>Profession</th>\n",
              "      <th>Academic Pressure</th>\n",
              "      <th>Work Pressure</th>\n",
              "      <th>CGPA</th>\n",
              "      <th>Study Satisfaction</th>\n",
              "      <th>Job Satisfaction</th>\n",
              "      <th>Sleep Duration</th>\n",
              "      <th>Dietary Habits</th>\n",
              "      <th>Degree</th>\n",
              "      <th>Have you ever had suicidal thoughts ?</th>\n",
              "      <th>Work/Study Hours</th>\n",
              "      <th>Financial Stress</th>\n",
              "      <th>Family History of Mental Illness</th>\n",
              "      <th>Depression</th>\n",
              "    </tr>\n",
              "    <tr>\n",
              "      <th>id</th>\n",
              "      <th></th>\n",
              "      <th></th>\n",
              "      <th></th>\n",
              "      <th></th>\n",
              "      <th></th>\n",
              "      <th></th>\n",
              "      <th></th>\n",
              "      <th></th>\n",
              "      <th></th>\n",
              "      <th></th>\n",
              "      <th></th>\n",
              "      <th></th>\n",
              "      <th></th>\n",
              "      <th></th>\n",
              "      <th></th>\n",
              "      <th></th>\n",
              "      <th></th>\n",
              "    </tr>\n",
              "  </thead>\n",
              "  <tbody>\n",
              "    <tr>\n",
              "      <th>2</th>\n",
              "      <td>Male</td>\n",
              "      <td>33.0</td>\n",
              "      <td>Visakhapatnam</td>\n",
              "      <td>Student</td>\n",
              "      <td>5.0</td>\n",
              "      <td>0.0</td>\n",
              "      <td>8.97</td>\n",
              "      <td>2.0</td>\n",
              "      <td>0.0</td>\n",
              "      <td>5-6 hours</td>\n",
              "      <td>Healthy</td>\n",
              "      <td>B.Pharm</td>\n",
              "      <td>Yes</td>\n",
              "      <td>3.0</td>\n",
              "      <td>1.0</td>\n",
              "      <td>No</td>\n",
              "      <td>1</td>\n",
              "    </tr>\n",
              "    <tr>\n",
              "      <th>8</th>\n",
              "      <td>Female</td>\n",
              "      <td>24.0</td>\n",
              "      <td>Bangalore</td>\n",
              "      <td>Student</td>\n",
              "      <td>2.0</td>\n",
              "      <td>0.0</td>\n",
              "      <td>5.90</td>\n",
              "      <td>5.0</td>\n",
              "      <td>0.0</td>\n",
              "      <td>5-6 hours</td>\n",
              "      <td>Moderate</td>\n",
              "      <td>BSc</td>\n",
              "      <td>No</td>\n",
              "      <td>3.0</td>\n",
              "      <td>2.0</td>\n",
              "      <td>Yes</td>\n",
              "      <td>0</td>\n",
              "    </tr>\n",
              "    <tr>\n",
              "      <th>26</th>\n",
              "      <td>Male</td>\n",
              "      <td>31.0</td>\n",
              "      <td>Srinagar</td>\n",
              "      <td>Student</td>\n",
              "      <td>3.0</td>\n",
              "      <td>0.0</td>\n",
              "      <td>7.03</td>\n",
              "      <td>5.0</td>\n",
              "      <td>0.0</td>\n",
              "      <td>Less than 5 hours</td>\n",
              "      <td>Healthy</td>\n",
              "      <td>BA</td>\n",
              "      <td>No</td>\n",
              "      <td>9.0</td>\n",
              "      <td>1.0</td>\n",
              "      <td>Yes</td>\n",
              "      <td>0</td>\n",
              "    </tr>\n",
              "    <tr>\n",
              "      <th>30</th>\n",
              "      <td>Female</td>\n",
              "      <td>28.0</td>\n",
              "      <td>Varanasi</td>\n",
              "      <td>Student</td>\n",
              "      <td>3.0</td>\n",
              "      <td>0.0</td>\n",
              "      <td>5.59</td>\n",
              "      <td>2.0</td>\n",
              "      <td>0.0</td>\n",
              "      <td>7-8 hours</td>\n",
              "      <td>Moderate</td>\n",
              "      <td>BCA</td>\n",
              "      <td>Yes</td>\n",
              "      <td>4.0</td>\n",
              "      <td>5.0</td>\n",
              "      <td>Yes</td>\n",
              "      <td>1</td>\n",
              "    </tr>\n",
              "    <tr>\n",
              "      <th>32</th>\n",
              "      <td>Female</td>\n",
              "      <td>25.0</td>\n",
              "      <td>Jaipur</td>\n",
              "      <td>Student</td>\n",
              "      <td>4.0</td>\n",
              "      <td>0.0</td>\n",
              "      <td>8.13</td>\n",
              "      <td>3.0</td>\n",
              "      <td>0.0</td>\n",
              "      <td>5-6 hours</td>\n",
              "      <td>Moderate</td>\n",
              "      <td>M.Tech</td>\n",
              "      <td>Yes</td>\n",
              "      <td>1.0</td>\n",
              "      <td>1.0</td>\n",
              "      <td>No</td>\n",
              "      <td>0</td>\n",
              "    </tr>\n",
              "  </tbody>\n",
              "</table>\n",
              "</div>"
            ],
            "text/plain": [
              "    Gender   Age           City Profession  Academic Pressure  Work Pressure  \\\n",
              "id                                                                             \n",
              "2     Male  33.0  Visakhapatnam    Student                5.0            0.0   \n",
              "8   Female  24.0      Bangalore    Student                2.0            0.0   \n",
              "26    Male  31.0       Srinagar    Student                3.0            0.0   \n",
              "30  Female  28.0       Varanasi    Student                3.0            0.0   \n",
              "32  Female  25.0         Jaipur    Student                4.0            0.0   \n",
              "\n",
              "    CGPA  Study Satisfaction  Job Satisfaction     Sleep Duration  \\\n",
              "id                                                                  \n",
              "2   8.97                 2.0               0.0          5-6 hours   \n",
              "8   5.90                 5.0               0.0          5-6 hours   \n",
              "26  7.03                 5.0               0.0  Less than 5 hours   \n",
              "30  5.59                 2.0               0.0          7-8 hours   \n",
              "32  8.13                 3.0               0.0          5-6 hours   \n",
              "\n",
              "   Dietary Habits   Degree Have you ever had suicidal thoughts ?  \\\n",
              "id                                                                 \n",
              "2         Healthy  B.Pharm                                   Yes   \n",
              "8        Moderate      BSc                                    No   \n",
              "26        Healthy       BA                                    No   \n",
              "30       Moderate      BCA                                   Yes   \n",
              "32       Moderate   M.Tech                                   Yes   \n",
              "\n",
              "    Work/Study Hours  Financial Stress Family History of Mental Illness  \\\n",
              "id                                                                        \n",
              "2                3.0               1.0                               No   \n",
              "8                3.0               2.0                              Yes   \n",
              "26               9.0               1.0                              Yes   \n",
              "30               4.0               5.0                              Yes   \n",
              "32               1.0               1.0                               No   \n",
              "\n",
              "    Depression  \n",
              "id              \n",
              "2            1  \n",
              "8            0  \n",
              "26           0  \n",
              "30           1  \n",
              "32           0  "
            ]
          },
          "execution_count": 18,
          "metadata": {},
          "output_type": "execute_result"
        }
      ],
      "source": [
        "# 3. Выведи на экран датасет\n",
        "df.head()"
      ]
    },
    {
      "cell_type": "code",
      "execution_count": 19,
      "metadata": {
        "id": "OaG__kMLQg4q"
      },
      "outputs": [],
      "source": [
        "# 4. Удали переменную id или сделай её индексной(уже)"
      ]
    },
    {
      "cell_type": "markdown",
      "metadata": {
        "id": "r-K03KU_S4HR"
      },
      "source": [
        "## Задача 2 [3 балла]\n",
        "\n",
        "Проведи первичный анализ данных.\n",
        "\n",
        "Для этого:\n",
        "1. Построй описательную статистику (ты уже сталкивался с такой задачей на семинаре). **[0,5 балла]**\n",
        "2. Напиши свои выводы. Что необычного ты заметил? **[0,5 балла]**\n",
        "3. Выведи информацию по типам данных каждой колонки. **[0,5 балла]**\n",
        "4. Сделай описательную статистику для нечисловых переменных. Тебе поможет [документация](https://pandas.pydata.org/docs/reference/api/pandas.DataFrame.describe.html). Посмотри внимательно, какой тип данных надо передать в аргументы функции описательной статистики. **[1 балл]**\n",
        "5. Напиши свои выводы. Какие интересные закономерности в данных ты заметил? **[0,5 балла]**"
      ]
    },
    {
      "cell_type": "code",
      "execution_count": 20,
      "metadata": {
        "id": "c--onSA9Q1sU"
      },
      "outputs": [
        {
          "data": {
            "text/html": [
              "<div>\n",
              "<style scoped>\n",
              "    .dataframe tbody tr th:only-of-type {\n",
              "        vertical-align: middle;\n",
              "    }\n",
              "\n",
              "    .dataframe tbody tr th {\n",
              "        vertical-align: top;\n",
              "    }\n",
              "\n",
              "    .dataframe thead th {\n",
              "        text-align: right;\n",
              "    }\n",
              "</style>\n",
              "<table border=\"1\" class=\"dataframe\">\n",
              "  <thead>\n",
              "    <tr style=\"text-align: right;\">\n",
              "      <th></th>\n",
              "      <th>Gender</th>\n",
              "      <th>Age</th>\n",
              "      <th>City</th>\n",
              "      <th>Profession</th>\n",
              "      <th>Academic Pressure</th>\n",
              "      <th>Work Pressure</th>\n",
              "      <th>CGPA</th>\n",
              "      <th>Study Satisfaction</th>\n",
              "      <th>Job Satisfaction</th>\n",
              "      <th>Sleep Duration</th>\n",
              "      <th>Dietary Habits</th>\n",
              "      <th>Degree</th>\n",
              "      <th>Have you ever had suicidal thoughts ?</th>\n",
              "      <th>Work/Study Hours</th>\n",
              "      <th>Financial Stress</th>\n",
              "      <th>Family History of Mental Illness</th>\n",
              "      <th>Depression</th>\n",
              "    </tr>\n",
              "  </thead>\n",
              "  <tbody>\n",
              "    <tr>\n",
              "      <th>count</th>\n",
              "      <td>27901</td>\n",
              "      <td>27901.000000</td>\n",
              "      <td>27901</td>\n",
              "      <td>27901</td>\n",
              "      <td>27901.000000</td>\n",
              "      <td>27901.000000</td>\n",
              "      <td>27901.000000</td>\n",
              "      <td>27901.000000</td>\n",
              "      <td>27901.000000</td>\n",
              "      <td>27901</td>\n",
              "      <td>27901</td>\n",
              "      <td>27901</td>\n",
              "      <td>27901</td>\n",
              "      <td>27901.000000</td>\n",
              "      <td>27898.000000</td>\n",
              "      <td>27901</td>\n",
              "      <td>27901.000000</td>\n",
              "    </tr>\n",
              "    <tr>\n",
              "      <th>unique</th>\n",
              "      <td>2</td>\n",
              "      <td>NaN</td>\n",
              "      <td>52</td>\n",
              "      <td>14</td>\n",
              "      <td>NaN</td>\n",
              "      <td>NaN</td>\n",
              "      <td>NaN</td>\n",
              "      <td>NaN</td>\n",
              "      <td>NaN</td>\n",
              "      <td>5</td>\n",
              "      <td>4</td>\n",
              "      <td>28</td>\n",
              "      <td>2</td>\n",
              "      <td>NaN</td>\n",
              "      <td>NaN</td>\n",
              "      <td>2</td>\n",
              "      <td>NaN</td>\n",
              "    </tr>\n",
              "    <tr>\n",
              "      <th>top</th>\n",
              "      <td>Male</td>\n",
              "      <td>NaN</td>\n",
              "      <td>Kalyan</td>\n",
              "      <td>Student</td>\n",
              "      <td>NaN</td>\n",
              "      <td>NaN</td>\n",
              "      <td>NaN</td>\n",
              "      <td>NaN</td>\n",
              "      <td>NaN</td>\n",
              "      <td>Less than 5 hours</td>\n",
              "      <td>Unhealthy</td>\n",
              "      <td>Class 12</td>\n",
              "      <td>Yes</td>\n",
              "      <td>NaN</td>\n",
              "      <td>NaN</td>\n",
              "      <td>No</td>\n",
              "      <td>NaN</td>\n",
              "    </tr>\n",
              "    <tr>\n",
              "      <th>freq</th>\n",
              "      <td>15547</td>\n",
              "      <td>NaN</td>\n",
              "      <td>1570</td>\n",
              "      <td>27870</td>\n",
              "      <td>NaN</td>\n",
              "      <td>NaN</td>\n",
              "      <td>NaN</td>\n",
              "      <td>NaN</td>\n",
              "      <td>NaN</td>\n",
              "      <td>8310</td>\n",
              "      <td>10317</td>\n",
              "      <td>6080</td>\n",
              "      <td>17656</td>\n",
              "      <td>NaN</td>\n",
              "      <td>NaN</td>\n",
              "      <td>14398</td>\n",
              "      <td>NaN</td>\n",
              "    </tr>\n",
              "    <tr>\n",
              "      <th>mean</th>\n",
              "      <td>NaN</td>\n",
              "      <td>25.822300</td>\n",
              "      <td>NaN</td>\n",
              "      <td>NaN</td>\n",
              "      <td>3.141214</td>\n",
              "      <td>0.000430</td>\n",
              "      <td>7.656104</td>\n",
              "      <td>2.943837</td>\n",
              "      <td>0.000681</td>\n",
              "      <td>NaN</td>\n",
              "      <td>NaN</td>\n",
              "      <td>NaN</td>\n",
              "      <td>NaN</td>\n",
              "      <td>7.156984</td>\n",
              "      <td>3.139867</td>\n",
              "      <td>NaN</td>\n",
              "      <td>0.585499</td>\n",
              "    </tr>\n",
              "    <tr>\n",
              "      <th>std</th>\n",
              "      <td>NaN</td>\n",
              "      <td>4.905687</td>\n",
              "      <td>NaN</td>\n",
              "      <td>NaN</td>\n",
              "      <td>1.381465</td>\n",
              "      <td>0.043992</td>\n",
              "      <td>1.470707</td>\n",
              "      <td>1.361148</td>\n",
              "      <td>0.044394</td>\n",
              "      <td>NaN</td>\n",
              "      <td>NaN</td>\n",
              "      <td>NaN</td>\n",
              "      <td>NaN</td>\n",
              "      <td>3.707642</td>\n",
              "      <td>1.437347</td>\n",
              "      <td>NaN</td>\n",
              "      <td>0.492645</td>\n",
              "    </tr>\n",
              "    <tr>\n",
              "      <th>min</th>\n",
              "      <td>NaN</td>\n",
              "      <td>18.000000</td>\n",
              "      <td>NaN</td>\n",
              "      <td>NaN</td>\n",
              "      <td>0.000000</td>\n",
              "      <td>0.000000</td>\n",
              "      <td>0.000000</td>\n",
              "      <td>0.000000</td>\n",
              "      <td>0.000000</td>\n",
              "      <td>NaN</td>\n",
              "      <td>NaN</td>\n",
              "      <td>NaN</td>\n",
              "      <td>NaN</td>\n",
              "      <td>0.000000</td>\n",
              "      <td>1.000000</td>\n",
              "      <td>NaN</td>\n",
              "      <td>0.000000</td>\n",
              "    </tr>\n",
              "    <tr>\n",
              "      <th>25%</th>\n",
              "      <td>NaN</td>\n",
              "      <td>21.000000</td>\n",
              "      <td>NaN</td>\n",
              "      <td>NaN</td>\n",
              "      <td>2.000000</td>\n",
              "      <td>0.000000</td>\n",
              "      <td>6.290000</td>\n",
              "      <td>2.000000</td>\n",
              "      <td>0.000000</td>\n",
              "      <td>NaN</td>\n",
              "      <td>NaN</td>\n",
              "      <td>NaN</td>\n",
              "      <td>NaN</td>\n",
              "      <td>4.000000</td>\n",
              "      <td>2.000000</td>\n",
              "      <td>NaN</td>\n",
              "      <td>0.000000</td>\n",
              "    </tr>\n",
              "    <tr>\n",
              "      <th>50%</th>\n",
              "      <td>NaN</td>\n",
              "      <td>25.000000</td>\n",
              "      <td>NaN</td>\n",
              "      <td>NaN</td>\n",
              "      <td>3.000000</td>\n",
              "      <td>0.000000</td>\n",
              "      <td>7.770000</td>\n",
              "      <td>3.000000</td>\n",
              "      <td>0.000000</td>\n",
              "      <td>NaN</td>\n",
              "      <td>NaN</td>\n",
              "      <td>NaN</td>\n",
              "      <td>NaN</td>\n",
              "      <td>8.000000</td>\n",
              "      <td>3.000000</td>\n",
              "      <td>NaN</td>\n",
              "      <td>1.000000</td>\n",
              "    </tr>\n",
              "    <tr>\n",
              "      <th>75%</th>\n",
              "      <td>NaN</td>\n",
              "      <td>30.000000</td>\n",
              "      <td>NaN</td>\n",
              "      <td>NaN</td>\n",
              "      <td>4.000000</td>\n",
              "      <td>0.000000</td>\n",
              "      <td>8.920000</td>\n",
              "      <td>4.000000</td>\n",
              "      <td>0.000000</td>\n",
              "      <td>NaN</td>\n",
              "      <td>NaN</td>\n",
              "      <td>NaN</td>\n",
              "      <td>NaN</td>\n",
              "      <td>10.000000</td>\n",
              "      <td>4.000000</td>\n",
              "      <td>NaN</td>\n",
              "      <td>1.000000</td>\n",
              "    </tr>\n",
              "    <tr>\n",
              "      <th>max</th>\n",
              "      <td>NaN</td>\n",
              "      <td>59.000000</td>\n",
              "      <td>NaN</td>\n",
              "      <td>NaN</td>\n",
              "      <td>5.000000</td>\n",
              "      <td>5.000000</td>\n",
              "      <td>10.000000</td>\n",
              "      <td>5.000000</td>\n",
              "      <td>4.000000</td>\n",
              "      <td>NaN</td>\n",
              "      <td>NaN</td>\n",
              "      <td>NaN</td>\n",
              "      <td>NaN</td>\n",
              "      <td>12.000000</td>\n",
              "      <td>5.000000</td>\n",
              "      <td>NaN</td>\n",
              "      <td>1.000000</td>\n",
              "    </tr>\n",
              "  </tbody>\n",
              "</table>\n",
              "</div>"
            ],
            "text/plain": [
              "       Gender           Age    City Profession  Academic Pressure  \\\n",
              "count   27901  27901.000000   27901      27901       27901.000000   \n",
              "unique      2           NaN      52         14                NaN   \n",
              "top      Male           NaN  Kalyan    Student                NaN   \n",
              "freq    15547           NaN    1570      27870                NaN   \n",
              "mean      NaN     25.822300     NaN        NaN           3.141214   \n",
              "std       NaN      4.905687     NaN        NaN           1.381465   \n",
              "min       NaN     18.000000     NaN        NaN           0.000000   \n",
              "25%       NaN     21.000000     NaN        NaN           2.000000   \n",
              "50%       NaN     25.000000     NaN        NaN           3.000000   \n",
              "75%       NaN     30.000000     NaN        NaN           4.000000   \n",
              "max       NaN     59.000000     NaN        NaN           5.000000   \n",
              "\n",
              "        Work Pressure          CGPA  Study Satisfaction  Job Satisfaction  \\\n",
              "count    27901.000000  27901.000000        27901.000000      27901.000000   \n",
              "unique            NaN           NaN                 NaN               NaN   \n",
              "top               NaN           NaN                 NaN               NaN   \n",
              "freq              NaN           NaN                 NaN               NaN   \n",
              "mean         0.000430      7.656104            2.943837          0.000681   \n",
              "std          0.043992      1.470707            1.361148          0.044394   \n",
              "min          0.000000      0.000000            0.000000          0.000000   \n",
              "25%          0.000000      6.290000            2.000000          0.000000   \n",
              "50%          0.000000      7.770000            3.000000          0.000000   \n",
              "75%          0.000000      8.920000            4.000000          0.000000   \n",
              "max          5.000000     10.000000            5.000000          4.000000   \n",
              "\n",
              "           Sleep Duration Dietary Habits    Degree  \\\n",
              "count               27901          27901     27901   \n",
              "unique                  5              4        28   \n",
              "top     Less than 5 hours      Unhealthy  Class 12   \n",
              "freq                 8310          10317      6080   \n",
              "mean                  NaN            NaN       NaN   \n",
              "std                   NaN            NaN       NaN   \n",
              "min                   NaN            NaN       NaN   \n",
              "25%                   NaN            NaN       NaN   \n",
              "50%                   NaN            NaN       NaN   \n",
              "75%                   NaN            NaN       NaN   \n",
              "max                   NaN            NaN       NaN   \n",
              "\n",
              "       Have you ever had suicidal thoughts ?  Work/Study Hours  \\\n",
              "count                                  27901      27901.000000   \n",
              "unique                                     2               NaN   \n",
              "top                                      Yes               NaN   \n",
              "freq                                   17656               NaN   \n",
              "mean                                     NaN          7.156984   \n",
              "std                                      NaN          3.707642   \n",
              "min                                      NaN          0.000000   \n",
              "25%                                      NaN          4.000000   \n",
              "50%                                      NaN          8.000000   \n",
              "75%                                      NaN         10.000000   \n",
              "max                                      NaN         12.000000   \n",
              "\n",
              "        Financial Stress Family History of Mental Illness    Depression  \n",
              "count       27898.000000                            27901  27901.000000  \n",
              "unique               NaN                                2           NaN  \n",
              "top                  NaN                               No           NaN  \n",
              "freq                 NaN                            14398           NaN  \n",
              "mean            3.139867                              NaN      0.585499  \n",
              "std             1.437347                              NaN      0.492645  \n",
              "min             1.000000                              NaN      0.000000  \n",
              "25%             2.000000                              NaN      0.000000  \n",
              "50%             3.000000                              NaN      1.000000  \n",
              "75%             4.000000                              NaN      1.000000  \n",
              "max             5.000000                              NaN      1.000000  "
            ]
          },
          "execution_count": 20,
          "metadata": {},
          "output_type": "execute_result"
        }
      ],
      "source": [
        "df.describe(include=\"all\")"
      ]
    },
    {
      "cell_type": "markdown",
      "metadata": {
        "id": "xbz2gDCtQ48S"
      },
      "source": [
        "2. Что необычного ты заметил? Напиши выводы минимум по двум переменным.\n"
      ]
    },
    {
      "cell_type": "code",
      "execution_count": 21,
      "metadata": {
        "id": "PEKuSnyJRF1t"
      },
      "outputs": [],
      "source": [
        "# 3. Информация по типам данных\n",
        "#Никто не работает\n",
        "#У половины депрессия"
      ]
    },
    {
      "cell_type": "code",
      "execution_count": 22,
      "metadata": {
        "id": "5BNU38-TROVS"
      },
      "outputs": [],
      "source": [
        "# # 4. Описательная статистика для нечисловых переменных\n",
        "# Наиболее популярно не спать и есть нездоровую пищу"
      ]
    },
    {
      "cell_type": "markdown",
      "metadata": {
        "id": "DXRPBsuHRV17"
      },
      "source": [
        "5. Какие закономерности ты заметил? Напиши выводы минимум по двум переменным."
      ]
    },
    {
      "cell_type": "code",
      "execution_count": 23,
      "metadata": {},
      "outputs": [],
      "source": [
        "# from sklearn.preprocessing import LabelEncoder\n",
        "# le = LabelEncoder()\n",
        "# df = df.fillna(0)\n",
        "# numerical_cols = df.select_dtypes(include=\"number\")\n",
        "# object_cols = df.select_dtypes(include=\"object\")\n",
        "# for col in object_cols:\n",
        "#     df[col] = le.fit_transform(df[col])\n",
        "    \n",
        "# print(df.corrwith(df[\"Depression\"]).sort_values())\n"
      ]
    },
    {
      "cell_type": "markdown",
      "metadata": {},
      "source": [
        "Dietary Habits                          \n",
        "Work/Study Hours                         \n",
        "Financial Stress                         \n",
        "Academic Pressure                        \n",
        "Have you ever had suicidal thoughts ?   \n",
        "Depression                               \n",
        "ну логично, еще бы добавили вопрос про уровень физ нагрузки и 1 в 1 были бы советы по улучшению псих состояния. "
      ]
    },
    {
      "cell_type": "markdown",
      "metadata": {
        "id": "Aep_C1oAYQTB"
      },
      "source": [
        "## Задача 3 [4 балла]\n",
        "\n",
        "Построй графики, которые проверят базовые навыки владения Pandas и библиотеками визуализации.\n",
        "\n",
        "1. Нарисуй гистограмму распределения переменной `Depression`. **[0,5 балла]**\n",
        "2. Нарисуй две гистограммы рядом: **[1,5 балла]**\n",
        "  * Слева: гистограмма продолжительности сна.\n",
        "  * Справа: гистограма продолжительности сна, где каждая категория должна отображаться с учётом переменной `Depression`.\n",
        "  * Для каждой гистограммы порядок колонок должен быть упорядочен от наименьшей продолжительности сна до максимальной. Категорию `Others` помести в начало или в конец.\n",
        "3. Каждый график должен быть подписан, легенда выведена **[0,5 балла]**. У гистограмм из пункта 2 должны быть как отдельные подписи, так и общая. **[0,5 балла]**\n",
        "4. Опиши результаты для каждого графика и получившиеся выводы. **[0,5 + 0,5 балла]**\n"
      ]
    },
    {
      "cell_type": "code",
      "execution_count": 24,
      "metadata": {
        "id": "MpFkWN3ESfq2"
      },
      "outputs": [
        {
          "data": {
            "image/png": "[encoded data removed]",
            "text/plain": [
              "<Figure size 640x480 with 1 Axes>"
            ]
          },
          "metadata": {},
          "output_type": "display_data"
        }
      ],
      "source": [
        "# 1. Гистограмма распределения переменной Depression\n",
        "sns.countplot(data=df, x = df[\"Depression\"])\n",
        "plt.title(label=\"Распределение депрессий\")\n",
        "plt.show()"
      ]
    },
    {
      "cell_type": "code",
      "execution_count": 25,
      "metadata": {
        "id": "32qzOIpBSrCp"
      },
      "outputs": [
        {
          "data": {
            "image/png": "[encoded data removed]",
            "text/plain": [
              "<Figure size 1800x800 with 2 Axes>"
            ]
          },
          "metadata": {},
          "output_type": "display_data"
        }
      ],
      "source": [
        "sleep_order = sorted(df['Sleep Duration'].unique())\n",
        "if 'Others' in sleep_order:\n",
        "    sleep_order.remove('Others')\n",
        "    sleep_order = ['Others'] + sleep_order\n",
        "\n",
        "f, ax = plt.subplots(1, 2, figsize=(18, 8))\n",
        "\n",
        "sns.countplot(x='Sleep Duration', data=df, order=sleep_order, ax=ax[0])\n",
        "ax[0].set_title('Распределение продолжительности сна')\n",
        "ax[0].set_xlabel('Продолжительность сна')\n",
        "ax[0].set_ylabel('Количество наблюдений')\n",
        "\n",
        "sns.countplot(x='Sleep Duration', data=df, hue='Depression', order=sleep_order, ax=ax[1])\n",
        "ax[1].set_title('Распределение продолжительности сна (с учетом Depression)')\n",
        "ax[1].set_xlabel('Продолжительность сна')\n",
        "ax[1].set_ylabel('Количество наблюдений')\n",
        "ax[1].legend(title='Уровень депрессии')  \n",
        "\n",
        "plt.suptitle('Сравнение продолжительности сна', fontsize=16)\n",
        "\n",
        "\n",
        "plt.tight_layout(rect=[0, 0, 1, 0.95])\n",
        "\n",
        "plt.show()"
      ]
    },
    {
      "cell_type": "markdown",
      "metadata": {
        "id": "izQzbZm-TH6V"
      },
      "source": [
        "3. Проверь, что у каждого графика есть подписи осей, легенды и названия."
      ]
    },
    {
      "cell_type": "markdown",
      "metadata": {
        "id": "cLjvq8wZTQzw"
      },
      "source": [
        "4. Что ты заметил на графиках? Напиши минимум один вывод."
      ]
    },
    {
      "cell_type": "markdown",
      "metadata": {},
      "source": [
        "Те, кто спят меньше 5 часов зачастую подвержены депрессии."
      ]
    },
    {
      "cell_type": "markdown",
      "metadata": {
        "id": "9vqdAK5Qf1e7"
      },
      "source": [
        "## Задача 4 [1 балл и 2 бонусных балла]\n",
        "\n",
        "Если ты сделал правильные выводы из задачи 3, то сегодня точно захочешь лечь пораньше.\n",
        "\n",
        "Теперь нужно проверить, получают ли студенты больше баллов, если вместо того, чтобы идти спать вовремя, продолжают решать домашнее задание.\n",
        "\n",
        "Для этого тебе нужно:\n",
        "1. Ознакомиться с [документацией boxplot](https://seaborn.pydata.org/generated/seaborn.boxplot.html). **[0 баллов]**\n",
        "2. Нарисовать диаграмы вида boxplot: **[1 балл + 1 бонусный балл]**\n",
        "  * Это должен быть один график с множеством boxplot.\n",
        "  * Для каждой группы сна нарисуй отдельный boxplot. **[0,5 балла]**\n",
        "  * Группы сна должны быть упорядочены, как в задаче 3. **[0,5 балла]**\n",
        "  * Также сделай разделение по переменной `Depression`. **[0,5 бонусных балла]**\n",
        "  * Оси должны быть подписаны, выведено название и легенда. **[0,5 бонусных балла]**\n",
        "\n",
        "3. Какие выводы можно сделать по графику? **[1 бонусный балл]**\n"
      ]
    },
    {
      "cell_type": "markdown",
      "metadata": {
        "id": "rwlP9HXWUGEd"
      },
      "source": [
        "1. Обязательно ознакомься с документацией, иначе график не построить."
      ]
    },
    {
      "cell_type": "code",
      "execution_count": 26,
      "metadata": {
        "id": "QvzdJo88UOm8"
      },
      "outputs": [
        {
          "data": {
            "image/png": "[encoded data removed]",
            "text/plain": [
              "<Figure size 1800x800 with 1 Axes>"
            ]
          },
          "metadata": {},
          "output_type": "display_data"
        }
      ],
      "source": [
        "sleep_order = sorted(df['Sleep Duration'].unique())\n",
        "if 'Others' in sleep_order:\n",
        "    sleep_order.remove('Others')\n",
        "    sleep_order = ['Others'] + sleep_order\n",
        "\n",
        "# Создание boxplot\n",
        "fig, ax = plt.subplots(figsize=(18, 8))  \n",
        "\n",
        "\n",
        "sns.boxplot(x='Sleep Duration', y='CGPA', data=df,\n",
        "            hue='Depression', order=sleep_order, ax=ax)\n",
        "ax.set_title('Зависимость баллов от продолжительности сна и уровня депрессии')\n",
        "ax.set_xlabel('Продолжительность сна')\n",
        "ax.set_ylabel('Суммарный балл')\n",
        "ax.legend(title='Уровень депрессии')\n",
        "\n",
        "\n",
        "plt.show()\n",
        "plt.close(fig)  \n"
      ]
    },
    {
      "cell_type": "markdown",
      "metadata": {
        "id": "hmMO9R_yUaJz"
      },
      "source": [
        "3. Напиши, что можно увидеть на графике (минимум два вывода)."
      ]
    },
    {
      "cell_type": "markdown",
      "metadata": {},
      "source": [
        "Баллы не зависят от количества сна и от депрессии, что контринтуитивно, поскольку депрессия вызвана нарушением серотонинергических рецепторов, что влияет на ощущение радости от жизни, мотивацию, скорость и длительность запоминания информации и т.п, не спрашивайте откуда знаю.\n",
        "\n",
        "Скорее всего у подростков популярно приписывать себе депрессию тогда, когда просто устал или находишься в состоянии перегруза. Т.е тут тоже надо как то их разделить. Т.е здесь наблюдается недостаточность данных для какого то серьезного вывода поскольку проблема в опроснике."
      ]
    }
  ],
  "metadata": {
    "colab": {
      "provenance": []
    },
    "kernelspec": {
      "display_name": ".venv",
      "language": "python",
      "name": "python3"
    },
    "language_info": {
      "codemirror_mode": {
        "name": "ipython",
        "version": 3
      },
      "file_extension": ".py",
      "mimetype": "text/x-python",
      "name": "python",
      "nbconvert_exporter": "python",
      "pygments_lexer": "ipython3",
      "version": "3.12.3"
    }
  },
  "nbformat": 4,
  "nbformat_minor": 0
}
