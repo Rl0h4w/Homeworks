{
  "cells": [
    {
      "cell_type": "markdown",
      "metadata": {
        "id": "0VIueBidmAuf"
      },
      "source": [
        "# Домашнее задание по теме «Оптимизация и табличные данные»"
      ]
    },
    {
      "cell_type": "markdown",
      "metadata": {
        "id": "6mIvs64-PIuL"
      },
      "source": [
        "Это домашнее задание состоит из двух частей: теоретической и практической.\n",
        "\n",
        "В первой части ты узнаешь, как в явном виде закодировать 2 новых оптимизатора.\n",
        "\n",
        "В практической части тебе пригодятся знания о линейной регрессии, оптимизаторах, регуляризации и schedulers, чтобы решить задачи.\n"
      ]
    },
    {
      "cell_type": "markdown",
      "metadata": {
        "id": "Poo1of8M3M_i"
      },
      "source": [
        "## Подготовка"
      ]
    },
    {
      "cell_type": "code",
      "execution_count": 1,
      "metadata": {
        "id": "netJmCv93NTu"
      },
      "outputs": [],
      "source": [
        "# Импортируй библиотеки\n",
        "from sklearn.feature_selection import SelectKBest, f_regression, RFE\n",
        "from sklearn.linear_model import LinearRegression, Lasso\n",
        "from sklearn.model_selection import train_test_split\n",
        "from sklearn.metrics import mean_absolute_error\n",
        "from sklearn.preprocessing import MinMaxScaler\n",
        "import pandas as pd\n",
        "import numpy as np\n",
        "import matplotlib.pyplot as plt\n",
        "import seaborn as sns"
      ]
    },
    {
      "cell_type": "markdown",
      "metadata": {
        "id": "q4pUo_1l18ie"
      },
      "source": [
        "## Теоретическая часть"
      ]
    },
    {
      "cell_type": "markdown",
      "metadata": {
        "id": "37Kylzzl75dl"
      },
      "source": [
        "### [RMSprop (Root Mean Square Propagation)](https://www.giskard.ai/glossary/rmsprop#:~:text=RMSprop%2C%20or%20Root%20Mean%20Squared,during%20a%20model's%20training%20phase.)\n",
        "\n"
      ]
    },
    {
      "cell_type": "markdown",
      "metadata": {
        "id": "HCtOrJYO75sV"
      },
      "source": [
        "Когда градиентный спуск используется в задачах, где функции потерь сильно зависят от масштаба параметров, может возникнуть ситуация, когда градиенты в одном направлении ($x$) намного больше, чем в другом ($y$).\n",
        "\n",
        "Это приводит к тому, что:\n",
        "\n",
        "* в направлении с большими градиентами параметры обновляются слишком быстро;\n",
        "* в направлении с малыми градиентами — слишком медленно.\n",
        "\n",
        "Эта ситуация мешает оптимизации, и **RMSprop** был создан для её решения.\n",
        "\n",
        "Идея RMSprop заключается в том, чтобы адаптивно изменять шаг обучения для каждого параметра. Это делается через нормализацию градиента на основе его предыдущей величины.\n",
        "\n",
        "Интуитивно RMSprop можно объяснить так — представь, что ты идёшь по пересечённой местности:\n",
        "\n",
        "* где дорога ровная (градиенты малы), ты делаешь длинные шаги;\n",
        "* где много камней (градиенты велики), ты замедляешься, чтобы не споткнуться.\n",
        "\n",
        "RMSprop действует аналогично: он адаптирует «длину шага» (шаг обучения) в зависимости от сложности рельефа (градиентов)."
      ]
    },
    {
      "cell_type": "markdown",
      "metadata": {
        "id": "bEQIEhtU9dRi"
      },
      "source": [
        "**Шаг 1.** Вычисляем скользящее среднее квадрата градиента:\n"
      ]
    },
    {
      "cell_type": "markdown",
      "metadata": {
        "id": "jJ2x7tSY9xhc"
      },
      "source": [
        "$$ E|g^2|_t = γ \\times E|g^2|_{t-1} + (1 - γ) \\times g^2_t, $$"
      ]
    },
    {
      "cell_type": "markdown",
      "metadata": {
        "id": "_LPx8J6r85IG"
      },
      "source": [
        "где $E|g^2|$ — усреднённый квадрат градиента на текущей итерации t; \\\\\n",
        "$g$ — значение градиента на итерации t (направление, в котором изменяется функция потерь); \\\\\n",
        "$γ$ — коэффициент сглаживания (обычно 0,9): он определяет, как сильно мы учитываем прошлые значения.\n",
        "\n",
        "**Что происходит**\n",
        "\n",
        "Мы постепенно усредняем квадраты градиентов. Это позволяет понять, как сильно меняется градиент на разных итерациях."
      ]
    },
    {
      "cell_type": "markdown",
      "metadata": {
        "id": "6Hm4JO8YBkXF"
      },
      "source": [
        "**Шаг 2.** Нормализуем градиент и обновляем параметры:\n",
        "\n"
      ]
    },
    {
      "cell_type": "markdown",
      "metadata": {
        "id": "2pzB21sZ85YQ"
      },
      "source": [
        "$$ \\theta_t = θ_{t-1} - \\frac{η}{\\sqrt{E|g^2|_t + e}} \\times g_t. $$"
      ]
    },
    {
      "cell_type": "markdown",
      "metadata": {
        "id": "oY8ST-8K_HlS"
      },
      "source": [
        "Начнём с вычитаемого,  \n",
        "где $η$ — длина шага обучения; \\\\\n",
        "$e$ — небольшая величина для предотвращения деления на 0.\n",
        "\n",
        "**Что происходит**\n",
        "\n",
        "Мы делим текущий градиент на его «усреднённый размер». Это автоматически уменьшает шаг обновления, если градиенты становятся слишком большими, и увеличивает шаг, если они малы.\n",
        "\n",
        "Далее мы корректируем параметры $θ$ модели с учётом усреднённого квадрата градиента. Это позволяет избегать слишком резких изменений и улучшает сходимость.\n",
        "\n"
      ]
    },
    {
      "cell_type": "markdown",
      "metadata": {
        "id": "4H5LQn8o5kcG"
      },
      "source": [
        "### Задача 1 [2 балла]"
      ]
    },
    {
      "cell_type": "markdown",
      "metadata": {
        "id": "uqOlwaqPE1Yp"
      },
      "source": [
        "На основе теоретической части выше реализуй функцию `rmsprop_update`, представляющую собой одну итерацию обновления параметров модели через RMSprop."
      ]
    },
    {
      "cell_type": "code",
      "execution_count": 2,
      "metadata": {
        "id": "ZQoQJQekEsuK"
      },
      "outputs": [],
      "source": [
        "import numpy as np\n",
        "\n",
        "def rmsprop_update(params, grads, sq_grads, lr=0.01, gamma=0.9, epsilon=1e-8):\n",
        "    \"\"\"\n",
        "    Обновление параметров с помощью RMSprop.\n",
        "\n",
        "    params: dict, параметры модели.\n",
        "    grads: dict, градиенты параметров.\n",
        "    sq_grads: dict, скользящее среднее квадратов градиентов.\n",
        "    lr: float, шаг обучения.\n",
        "    gamma: float, коэффициент сглаживания.\n",
        "    epsilon: float, предотвращает деление на 0.\n",
        "    \"\"\"\n",
        "    for key in params.keys():\n",
        "        sq_grads[key] = sq_grads[key] * gamma + (1-gamma) * grads[key]**2\n",
        "        params[key] -= lr * grads[key]/(np.sqrt(sq_grads[key]+epsilon))\n",
        "    return params, sq_grads"
      ]
    },
    {
      "cell_type": "code",
      "execution_count": 3,
      "metadata": {
        "id": "Lr0ZBsTPEziF"
      },
      "outputs": [
        {
          "name": "stdout",
          "output_type": "stream",
          "text": [
            "После RMSprop: {'w': array([1.03162262]), 'b': array([0.03162274])}\n"
          ]
        }
      ],
      "source": [
        "# Пример данных\n",
        "params = {\"w\": np.array([1.0]), \"b\": np.array([0.0])}\n",
        "grads = {\"w\": np.array([-0.1]), \"b\": np.array([-0.2])}\n",
        "sq_grads = {\"w\": np.zeros_like(params[\"w\"]), \"b\": np.zeros_like(params[\"b\"]) }\n",
        "m = {\"w\": np.zeros_like(params[\"w\"]), \"b\": np.zeros_like(params[\"b\"])}\n",
        "v = {\"w\": np.zeros_like(params[\"w\"]), \"b\": np.zeros_like(params[\"b\"])}\n",
        "\n",
        "# RMSprop-шаг\n",
        "params, sq_grads = rmsprop_update(params, grads, sq_grads)\n",
        "print(\"После RMSprop:\", params)"
      ]
    },
    {
      "cell_type": "markdown",
      "metadata": {
        "id": "PX8cyWauGZZW"
      },
      "source": [
        "### Adam (Adaptive Moment Estimation)"
      ]
    },
    {
      "cell_type": "markdown",
      "metadata": {
        "id": "ZLQc0R-FHoX5"
      },
      "source": [
        "[Adam (Adaptive Moment Estimation)](https://www.geeksforgeeks.org/adam-optimizer/) объединяет два подхода:\n",
        "\n",
        "* **Momentum** (разбирали на семинаре): для учёта направления движения, чтобы сгладить колебания.\n",
        "* **RMSprop**: для адаптивного изменения шага обучения на основе масштаба градиентов.\n",
        "\n",
        "Adam улучшает обучение в условиях шумных данных и ускоряет сходимость благодаря комбинации этих двух подходов.\n",
        "\n",
        "\n",
        "Adam вычисляет:\n",
        "\n",
        "* первый момент — скользящее среднее градиентов ($m_t$);\n",
        "* второй момент — скользящее среднее квадратов градиентов ($v_t$).\n",
        "\n",
        "Это помогает учитывать направление (из-за Momentum) и адаптивный шаг обучения (из-за RMSprop).\n",
        "\n",
        "Интуитивно алгоритм Adam можно сравнить со спуском с горы:\n",
        "\n",
        "* Momentum учитывает общее направление, чтобы быстрее двигаться к цели, сохраняя плавность движения.\n",
        "* RMSprop позволяет адаптировать шаг: замедляться на крутых спусках и ускоряться на пологих.\n",
        "\n",
        "Adam объединяет оба подхода, делая движение плавным, быстрым и устойчивым."
      ]
    },
    {
      "cell_type": "markdown",
      "metadata": {
        "id": "xZBu1nTdLJpg"
      },
      "source": [
        "**Шаг 1.** Вычисляем первый момент (среднее градиента):"
      ]
    },
    {
      "cell_type": "markdown",
      "metadata": {
        "id": "GW7O9dSSJIqq"
      },
      "source": [
        "$$ m_t = β_1  \\times m_{t-1} + (1 - β_1) \\times g_t,$$"
      ]
    },
    {
      "cell_type": "markdown",
      "metadata": {
        "id": "NA_AgWSaLQzh"
      },
      "source": [
        "где $m_t$ — скользящее среднее градиента на текущей итерации; \\\\\n",
        "$m_{t-1}$ — значение первого момента на предыдущей итерации; \\\\\n",
        "$β_1$ — коэффициент сглаживания для первого момента (обычно 0,9); \\\\\n",
        "$g_t$ — текущий градиент.\n",
        "\n",
        "Мы усредняем градиенты, чтобы учитывать направление, в котором чаще всего снижается функция потерь. Общее направление учитывается, чтобы быстрее двигаться к цели, сохраняя плавность движения."
      ]
    },
    {
      "cell_type": "markdown",
      "metadata": {
        "id": "3OuaRS-8Lx82"
      },
      "source": [
        "**Шаг 2.** Вычисляем второй момент (среднее квадрата градиента):"
      ]
    },
    {
      "cell_type": "markdown",
      "metadata": {
        "id": "ZocXkSVIJSDc"
      },
      "source": [
        "$$ v_t = β_2  \\times v_{t-1} + (1- \\beta_2) \\times g^2_t, $$"
      ]
    },
    {
      "cell_type": "markdown",
      "metadata": {
        "id": "IGOTFU09MOrX"
      },
      "source": [
        "\n",
        "где $v_t$ — скользящее среднее квадрата градиента на текущей итерации; \\\\\n",
        "$v_{t-1}$ — значение второй моменты на предыдущей итерации; \\\\\n",
        "$β_2$ — коэффициент сглаживания для второго момента (обычно 0,999); \\\\\n",
        "$g_t$ — текущий градиент.\n",
        "\n",
        "Мы учитываем величину градиента, чтобы адаптировать шаг обучения. Это как если бы мы замедлялись, когда «дорога становится слишком крутой»."
      ]
    },
    {
      "cell_type": "markdown",
      "metadata": {
        "id": "hYitg7fbMmrK"
      },
      "source": [
        "**Шаг 3.** Корректируем смещения на начальных итерациях.\n",
        "\n",
        "На первых итерациях значения $m_t$ и $v_t$ могут быть сильно занижены, потому что они зависят от начальных значений.\n",
        "\n",
        "Поэтому мы вводим поправки:"
      ]
    },
    {
      "cell_type": "markdown",
      "metadata": {
        "id": "s-8kN1v3JSNY"
      },
      "source": [
        "$$ mbias_t  = \\frac{m_t}{1-β_1  \\times t},$$ \n",
        "\n",
        "$$ vbias_t = \\frac{v_t}{1-β_2  \\times t},$$"
      ]
    },
    {
      "cell_type": "markdown",
      "metadata": {
        "id": "uwa01SqkM94K"
      },
      "source": [
        "\n",
        "где $mbias$ и $vbias$ — скорректированные значения моментов; \\\\\n",
        "$t$ — номер текущей итерации.\n",
        "\n",
        "Поправка позволяет Adam работать эффективно с самого начала, компенсируя заниженные значения моментов."
      ]
    },
    {
      "cell_type": "markdown",
      "metadata": {
        "id": "4uvYCdgENZrr"
      },
      "source": [
        "**Шаг 4.** Обновляем параметры:"
      ]
    },
    {
      "cell_type": "markdown",
      "metadata": {
        "id": "NbKDKyWaJScq"
      },
      "source": [
        "$$ θ_t = θ_{t-1} - \\frac{η}{\\sqrt{vbias_t} + e}  \\times mbias_t,$$"
      ]
    },
    {
      "cell_type": "markdown",
      "metadata": {
        "id": "lzEhaoXjNhzo"
      },
      "source": [
        "\n",
        "где $η$ — длина шага обучения; \\\\\n",
        "$e$ — небольшая величина для предотвращения деления на 0 (обычно $10^{-8}$).\n",
        "\n",
        "Мы делаем шаг в направлении усреднённого градиента ($mbias_t$), но его длина регулируется адаптивным масштабом ($vbias_t$)."
      ]
    },
    {
      "cell_type": "markdown",
      "metadata": {
        "id": "RHi4eMCKOP6p"
      },
      "source": [
        "### Задача 2 [2 балла]"
      ]
    },
    {
      "cell_type": "markdown",
      "metadata": {
        "id": "Ani6B9CLmokW"
      },
      "source": [
        "Реализуй Adam-оптимизатор, используя теорию, рассмотренную выше."
      ]
    },
    {
      "cell_type": "code",
      "execution_count": 4,
      "metadata": {
        "id": "jEjtZA1NO5WG"
      },
      "outputs": [],
      "source": [
        "def adam_update(params, grads, m, v, lr=0.001, beta1=0.9, beta2=0.999, epsilon=1e-8, t=1):\n",
        "    \"\"\"\n",
        "    Обновление параметров с помощью Adam.\n",
        "\n",
        "    params: dict, параметры модели.\n",
        "    grads: dict, градиенты параметров.\n",
        "    m: dict, первая момента (сглаженное среднее градиентов).\n",
        "    v: dict, вторая момента (сглаженное среднее квадратов градиентов).\n",
        "    lr: float, шаг обучения.\n",
        "    beta1: float, коэффициент для первой моменты.\n",
        "    beta2: float, коэффициент для второй моменты.\n",
        "    epsilon: float, предотвращает деление на 0.\n",
        "    t: int, текущая итерация.\n",
        "    \"\"\"\n",
        "    for key in params.keys():\n",
        "        m[key] = beta1 * m[key] + (1 - beta1) * grads[key]\n",
        "        v[key] = beta2 * v[key] + (1 - beta2) * grads[key]**2\n",
        "        mbias = m[key]/(1-beta1**t)\n",
        "        vbias = v[key]/(1-beta2**t)\n",
        "        params[key] -= lr*mbias/(np.sqrt(vbias) + epsilon)\n",
        "        \n",
        "\n",
        "    return params, m, v\n"
      ]
    },
    {
      "cell_type": "code",
      "execution_count": 5,
      "metadata": {
        "id": "bdZwJ-z9O5fD"
      },
      "outputs": [
        {
          "name": "stdout",
          "output_type": "stream",
          "text": [
            "После Adam: {'w': array([1.001]), 'b': array([0.001])}\n"
          ]
        }
      ],
      "source": [
        "# Пример данных\n",
        "params = {\"w\": np.array([1.0]), \"b\": np.array([0.0])}\n",
        "grads = {\"w\": np.array([-0.1]), \"b\": np.array([-0.2])}\n",
        "sq_grads = {\"w\": np.zeros_like(params[\"w\"]), \"b\": np.zeros_like(params[\"b\"]) }\n",
        "m = {\"w\": np.zeros_like(params[\"w\"]), \"b\": np.zeros_like(params[\"b\"])}\n",
        "v = {\"w\": np.zeros_like(params[\"w\"]), \"b\": np.zeros_like(params[\"b\"])}\n",
        "\n",
        "# Adam-шаг\n",
        "params, m, v = adam_update(params, grads, m, v, t=1)\n",
        "print(\"После Adam:\", params)"
      ]
    },
    {
      "cell_type": "markdown",
      "metadata": {
        "id": "gZ5-mooE2B5C"
      },
      "source": [
        "## Практическая часть"
      ]
    },
    {
      "cell_type": "markdown",
      "metadata": {
        "id": "5D1hrHf2khW6"
      },
      "source": [
        "В рамках практической части ты поработаешь с линейной регрессией, L2-регуляризацией и оптимизаторами Adam и RMSprop.\n",
        "\n",
        "Cчитай, что линейная регрессия и L2-регуляризация заданы в явном виде, то есть формулами."
      ]
    },
    {
      "cell_type": "code",
      "execution_count": 6,
      "metadata": {
        "id": "aBIGL0PPbvlu"
      },
      "outputs": [],
      "source": [
        "import numpy as np\n",
        "import matplotlib.pyplot as plt"
      ]
    },
    {
      "cell_type": "code",
      "execution_count": 7,
      "metadata": {
        "id": "YkAtJakQb5jy"
      },
      "outputs": [],
      "source": [
        "# Генерация данных\n",
        "def generate_data(n_samples=100, n_features=1, noise=0.1):\n",
        "    np.random.seed(42)\n",
        "    X = np.random.rand(n_samples, n_features) * 10\n",
        "    true_weights = np.random.randn(n_features, 1)\n",
        "    y = X @ true_weights + np.random.randn(n_samples, 1) * noise\n",
        "    return X, y, true_weights"
      ]
    },
    {
      "cell_type": "markdown",
      "metadata": {
        "id": "FrjlXnLzbftC"
      },
      "source": [
        "### Задача 3 [3 балла + 0,5 дополнительных балла]"
      ]
    },
    {
      "cell_type": "markdown",
      "metadata": {
        "id": "jNLc4tIufUy9"
      },
      "source": [
        "1. Функция ниже должна в явном виде рассчитывать общий loss модели: MSE + L2-регуляризация **[0,5 балла]**."
      ]
    },
    {
      "cell_type": "code",
      "execution_count": 8,
      "metadata": {
        "id": "Fs00BgB0bgF7"
      },
      "outputs": [],
      "source": [
        "# Функция потерь (MSE + L2-регуляризация)\n",
        "def compute_loss(X, y, w, b, l2_lambda=0.01):\n",
        "    predictions = X @ w + b  \n",
        "    mse = np.mean((y - predictions)**2)\n",
        "    l2 = l2_lambda * np.sum(w**2)\n",
        "    return mse + l2"
      ]
    },
    {
      "cell_type": "markdown",
      "metadata": {
        "id": "8jm0GhhPfn4j"
      },
      "source": [
        "2. Функция ниже должна в явном виде рассчитывать градиенты для модели линейной регрессии с L2-регуляризацией **[0,5 балла]**.\n",
        "3. Реализуй расчёт градиентов через autograd или torch, чтобы получить **0,5 дополнительных балла**."
      ]
    },
    {
      "cell_type": "code",
      "execution_count": 9,
      "metadata": {
        "id": "oQdcvZyHcg7V"
      },
      "outputs": [],
      "source": [
        "# Градиенты\n",
        "def compute_gradients(X, y, w, b, l2_lambda=0.01):\n",
        "    predictions = w*X+b\n",
        "    dw = (2 / X.shape[0]) * X.T @ (predictions - y) + 2 * l2_lambda * w\n",
        "    db = -2*np.mean(-b-w*X+y)\n",
        "    return dw, db"
      ]
    },
    {
      "cell_type": "code",
      "execution_count": 10,
      "metadata": {
        "id": "pg6gB3CHdSdL"
      },
      "outputs": [],
      "source": [
        "def rmsprop_next(params, grads, sq_grads, lr=0.01, gamma=0.9, epsilon=1e-8):\n",
        "    for key in params.keys():\n",
        "        sq_grads[key] = sq_grads[key] * gamma + (1-gamma) * grads[key]**2\n",
        "        params[key] -= lr * grads[key]/(np.sqrt(sq_grads[key]+epsilon))\n",
        "    return params, sq_grads"
      ]
    },
    {
      "cell_type": "code",
      "execution_count": 11,
      "metadata": {
        "id": "_KmCliYVdYHc"
      },
      "outputs": [],
      "source": [
        "def adam_next(params, grads, m, v, lr=0.001, beta1=0.9, beta2=0.999, epsilon=1e-8, t=1):\n",
        "    for key in params.keys():\n",
        "        m[key] = beta1 * m[key] + (1 - beta1) * grads[key]\n",
        "        v[key] = beta2 * v[key] + (1 - beta2) * grads[key]**2\n",
        "        mbias = m[key]/(1-beta1**t)\n",
        "        vbias = v[key]/(1-beta2**t)\n",
        "        params[key] -= lr*mbias/(np.sqrt(vbias) + epsilon)\n",
        "\n",
        "    return params, m, v\n"
      ]
    },
    {
      "cell_type": "markdown",
      "metadata": {
        "id": "DZ1sgqVvhulK"
      },
      "source": [
        "4. Реализуй тренировочную функцию с логированием потерь и настрой визуализацию **[2 балла]**."
      ]
    },
    {
      "cell_type": "code",
      "execution_count": 12,
      "metadata": {
        "id": "XE48fIO5dg7R"
      },
      "outputs": [],
      "source": [
        "def train_model(X, y, optimizer='adam', n_epochs=100, learning_rate=0.01, l2_lambda=0.01):\n",
        "    n_features = X.shape[1]\n",
        "    w = np.zeros((n_features, 1))\n",
        "    b = 0\n",
        "    loss_history = []\n",
        "\n",
        "    if optimizer == 'rmsprop':\n",
        "        sq_grads = {\"w\": np.zeros_like(w), \"b\": np.zeros_like(b)}\n",
        "    elif optimizer == 'adam':\n",
        "        m = {\"w\": np.zeros_like(w), \"b\": np.zeros_like(b)} \n",
        "        v = {\"w\": np.zeros_like(w), \"b\": np.zeros_like(b)}\n",
        "\n",
        "    # Обучение\n",
        "    for epoch in range(1, n_epochs + 1):\n",
        "        dw, db = compute_gradients(X, y, w, b, l2_lambda=l2_lambda)\n",
        "        grads = {'w': dw, 'b': db} \n",
        "        params = {\"w\": w, \"b\": b}\n",
        "\n",
        "        if optimizer == 'rmsprop':\n",
        "            params, sq_grads = rmsprop_next(params, grads, sq_grads, lr=learning_rate)\n",
        "            w = params[\"w\"]\n",
        "            b = params[\"b\"]\n",
        "\n",
        "        elif optimizer == 'adam':\n",
        "            params, m, v = adam_next(params, grads, m, v, lr=learning_rate, t=epoch) # Передача epoch для bias correction\n",
        "            w = params[\"w\"]\n",
        "            b = params[\"b\"]\n",
        "\n",
        "\n",
        "        # Логируем потерю\n",
        "        loss = compute_loss(X, y, w, b, l2_lambda = l2_lambda)\n",
        "        loss_history.append(loss)\n",
        "\n",
        "    return w, b, loss_history"
      ]
    },
    {
      "cell_type": "code",
      "execution_count": 13,
      "metadata": {
        "id": "trGR_YiVdu4p"
      },
      "outputs": [
        {
          "name": "stdout",
          "output_type": "stream",
          "text": [
            "Training with RMSprop:\n",
            "\n",
            "Training with Adam:\n"
          ]
        }
      ],
      "source": [
        "# Генерация данных\n",
        "X, y, true_weights = generate_data()\n",
        "\n",
        "# RMSprop\n",
        "print(\"Training with RMSprop:\")\n",
        "w_rmsprop, b_rmsprop, loss_rmsprop = train_model(X, y, optimizer='rmsprop', learning_rate=0.01)\n",
        "\n",
        "# Adam\n",
        "print(\"\\nTraining with Adam:\")\n",
        "w_adam, b_adam, loss_adam = train_model(X, y, optimizer='adam', learning_rate=0.01)"
      ]
    },
    {
      "cell_type": "code",
      "execution_count": 14,
      "metadata": {
        "id": "uymoi4-Edzev"
      },
      "outputs": [
        {
          "data": {
            "image/png": "[encoded data removed]",
            "text/plain": [
              "<Figure size 1200x600 with 1 Axes>"
            ]
          },
          "metadata": {},
          "output_type": "display_data"
        }
      ],
      "source": [
        "epochs = range(1, len(loss_rmsprop) + 1) # Создаем список эпох\n",
        "\n",
        "loss_rmsprop_flat = [loss.item() if isinstance(loss, np.ndarray) else loss for loss in loss_rmsprop] \n",
        "loss_adam_flat = [loss.item() if isinstance(loss, np.ndarray) else loss for loss in loss_adam]       \n",
        "\n",
        "df_rmsprop = pd.DataFrame({'Epoch': epochs, 'Loss': loss_rmsprop_flat, 'Optimizer': 'RMSprop'})\n",
        "df_adam = pd.DataFrame({'Epoch': epochs, 'Loss': loss_adam_flat, 'Optimizer': 'Adam'})\n",
        "df_combined = pd.concat([df_rmsprop, df_adam], ignore_index=True)\n",
        "\n",
        "plt.figure(figsize=(12, 6))\n",
        "sns.lineplot(x='Epoch', y='Loss', hue='Optimizer', data=df_combined)\n",
        "\n",
        "plt.title('Зависимость Loss от Epoch для RMSprop и Adam')\n",
        "plt.xlabel('Epoch')\n",
        "plt.ylabel('Loss')\n",
        "plt.legend(title='Оптимизатор')\n",
        "plt.grid(True)\n",
        "plt.tight_layout()\n",
        "plt.show()"
      ]
    },
    {
      "cell_type": "markdown",
      "metadata": {
        "id": "tlsGT-fue_MC"
      },
      "source": [
        "### Задача 3.1 [1 дополнительный балл]"
      ]
    },
    {
      "cell_type": "markdown",
      "metadata": {
        "id": "3TMPWwFKiUsk"
      },
      "source": [
        "* Реализуй более продвинутую визуализацию работы алгоритмов отдельно для RMSprop и отдельно для Adam.\n",
        "* Пример:\n",
        " * scatter plot для визуализации данных на плоскости;\n",
        " * линии предсказаний модели для каждой 10-й эпохи разными цветами;\n",
        " * можно также подписать общий loss для каждой линии.\n"
      ]
    },
    {
      "cell_type": "markdown",
      "metadata": {
        "id": "Jp4kkBTjjhI7"
      },
      "source": [
        "### Задача 4 [3 балла]"
      ]
    },
    {
      "cell_type": "markdown",
      "metadata": {
        "id": "YD5VQfynqOqL"
      },
      "source": [
        "1. Реализуй три вариации циклического scheduler: triangular, triangular2 и cosine. Для этого проведи небольшой ресёрч в интернете в поисках чётких формул и алгоритма работы **[2 балла]**."
      ]
    },
    {
      "cell_type": "code",
      "execution_count": 15,
      "metadata": {
        "id": "klZwa76kniRB"
      },
      "outputs": [],
      "source": [
        "import numpy as np\n",
        "import matplotlib.pyplot as plt\n",
        "\n",
        "# Функция для расчёта learning rate\n",
        "def cyclical_lr(iteration, eta_min, eta_max, step_size, mode='triangular'):\n",
        "    \"\"\"Циклический learning rate.\n",
        "\n",
        "    Параметры:\n",
        "    iteration -- номер текущей итерации\n",
        "    eta_min -- минимальная скорость обучения\n",
        "    eta_max -- максимальная скорость обучения\n",
        "    step_size -- шаг цикла (количество итераций до изменения направления)\n",
        "    mode -- режим ('triangular', 'triangular2', 'cosine')\n",
        "    \"\"\"\n",
        "    cycle = np.floor(1+iteration/(2*step_size))\n",
        "    x = abs(iteration/step_size-2*cycle+1)\n",
        "    scale = 1.0\n",
        "\n",
        "    if mode == 'triangular':\n",
        "        scale = np.maximum(0, (1 - x))\n",
        "    elif mode == 'triangular2':\n",
        "        scale = np.maximum(0, (1 - x)) / (2**(cycle - 1))\n",
        "    elif mode == 'cosine':\n",
        "        scale = (1 + np.cos(np.pi * (iteration % step_size) / step_size)) / 2\n",
        "    lr = eta_min + (eta_max - eta_min) * scale\n",
        "    return lr\n"
      ]
    },
    {
      "cell_type": "markdown",
      "metadata": {
        "id": "1Sm2Mc-0pbHC"
      },
      "source": [
        "На семинаре наш loss уходил в inf значения. Вот несколько возможных причин такого поведения:\n",
        "\n",
        "* **Слишком большой диапазон learning rate.** Если максимальное значение установлено слишком большим, обновления параметров будут слишком резкими, что приведёт к уходу в бесконечность.\n",
        "* **Отсутствие нормализации данных.** Если данные ($X, y$) не нормализованы, градиенты могут становиться огромными, особенно на ранних этапах обучения.\n",
        "* **Отсутствие регуляризации.** Большие learning rate могут привести к слишком большим значениям весов.\n",
        "\n",
        "В данном задании мы нормализуем $X$ и $y$, а также уменьшим максимальное значение learning rate.\n"
      ]
    },
    {
      "cell_type": "markdown",
      "metadata": {
        "id": "msiz40lZtSo5"
      },
      "source": [
        "2. Добавь расчёт learning rate от scheduler и нормализацию данных **[1 балл]**."
      ]
    },
    {
      "cell_type": "code",
      "execution_count": 16,
      "metadata": {
        "id": "TGQnza6XnnAo"
      },
      "outputs": [
        {
          "name": "stdout",
          "output_type": "stream",
          "text": [
            "Epoch 0: Loss = 0.9996, LR = 0.000100\n",
            "Epoch 100: Loss = 0.3549, LR = 0.005050\n",
            "Epoch 200: Loss = 0.0259, LR = 0.010000\n",
            "Epoch 300: Loss = 0.0108, LR = 0.005050\n",
            "Epoch 400: Loss = 0.0103, LR = 0.000100\n",
            "Epoch 500: Loss = 0.0101, LR = 0.005050\n",
            "Epoch 600: Loss = 0.0100, LR = 0.010000\n",
            "Epoch 700: Loss = 0.0100, LR = 0.005050\n",
            "Epoch 800: Loss = 0.0100, LR = 0.000100\n",
            "Epoch 900: Loss = 0.0100, LR = 0.005050\n",
            "Epoch 999: Loss = 0.0100, LR = 0.009951\n"
          ]
        },
        {
          "data": {
            "image/png": "[encoded data removed]",
            "text/plain": [
              "<Figure size 1200x500 with 2 Axes>"
            ]
          },
          "metadata": {},
          "output_type": "display_data"
        }
      ],
      "source": [
        "# Генерация данных\n",
        "def generate_data(n_samples=100, noise=0.1):\n",
        "    np.random.seed(42)\n",
        "    X = np.random.rand(n_samples, 1) * 10\n",
        "    y = 3 * X + 5 + np.random.randn(n_samples, 1) * noise\n",
        "    return X, y\n",
        "\n",
        "# Функция потерь (MSE + L2)\n",
        "def compute_loss(X, y, w, b, l2_lambda=0.01):\n",
        "  predictions = X @ w + b  \n",
        "  mse = np.mean((y-predictions)**2)\n",
        "  l2 = l2_lambda * np.sum(w**2)\n",
        "  return mse + l2\n",
        "\n",
        "# Градиентный спуск с циклическим scheduler\n",
        "def train_with_scheduler_function(X, y, eta_min, eta_max, step_size, mode, n_epochs=1000, l2_lambda=0.01):\n",
        "    w = np.zeros((X.shape[1], 1))\n",
        "    b = 0\n",
        "    losses = []\n",
        "    lrs = []\n",
        "\n",
        "    for epoch in range(n_epochs):\n",
        "        # Предсказания\n",
        "        predictions = X @ w + b\n",
        "        errors = predictions - y\n",
        "\n",
        "        # Градиенты: добавляем L2-регуляризацию к градиенту по весам\n",
        "        dw = (2 / len(y)) * X.T @ errors + 2 * l2_lambda * w\n",
        "        db = (2 / len(y)) * np.sum(errors)\n",
        "\n",
        "        # Получаем learning rate от scheduler\n",
        "        lr = cyclical_lr(epoch, eta_min, eta_max, step_size=step_size, mode=mode)\n",
        "        lrs.append(lr)\n",
        "\n",
        "        # Обновление параметров\n",
        "        w -= lr * dw\n",
        "        b -= lr * db\n",
        "\n",
        "        # Логирование\n",
        "        loss = compute_loss(X, y, w, b, l2_lambda).item()\n",
        "        losses.append(loss)\n",
        "\n",
        "        if epoch % 100 == 0 or epoch == n_epochs - 1:\n",
        "            print(f\"Epoch {epoch}: Loss = {loss:.4f}, LR = {lr:.6f}\")\n",
        "\n",
        "    return w, b, losses, lrs\n",
        "\n",
        "\n",
        "# Нормализация данных\n",
        "def normalize(X, y):\n",
        "  x_mean = X.mean()\n",
        "  x_std = X.std()\n",
        "  \n",
        "  y_mean = y.mean()\n",
        "  y_std = y.std()\n",
        "  \n",
        "  x = (X-x_mean)/x_std\n",
        "  y = (y-y_mean)/y_std\n",
        "  return x, y, (x_mean, x_std, y_mean, y_std)\n",
        "\n",
        "# Генерация данных\n",
        "X, y = generate_data()\n",
        "X, y, stats = normalize(X, y)\n",
        "\n",
        "# Обучение модели с уменьшенным диапазоном learning rate\n",
        "eta_min = 0.0001\n",
        "eta_max = 0.01\n",
        "step_size = 200\n",
        "mode = 'triangular'\n",
        "\n",
        "w, b, losses, lrs = train_with_scheduler_function(X, y, eta_min, eta_max, step_size, mode, n_epochs=1000)\n",
        "\n",
        "# Визуализация\n",
        "plt.figure(figsize=(12, 5))\n",
        "\n",
        "# Потери\n",
        "plt.subplot(1, 2, 1)\n",
        "plt.plot(losses, label=\"Loss\")\n",
        "plt.xlabel(\"Epoch\")\n",
        "plt.ylabel(\"Loss\")\n",
        "plt.title(\"Изменение потерь во времени (нормализованные данные)\")\n",
        "plt.legend()\n",
        "\n",
        "# Learning rate\n",
        "plt.subplot(1, 2, 2)\n",
        "plt.plot(lrs, label=\"Learning Rate\", color='orange')\n",
        "plt.xlabel(\"Epoch\")\n",
        "plt.ylabel(\"Learning Rate\")\n",
        "plt.title(\"Циклическое изменение скорости обучения\")\n",
        "plt.legend()\n",
        "\n",
        "plt.tight_layout()\n",
        "plt.show()\n",
        "\n"
      ]
    }
  ],
  "metadata": {
    "colab": {
      "provenance": [],
      "toc_visible": true
    },
    "kernelspec": {
      "display_name": ".venv",
      "language": "python",
      "name": "python3"
    },
    "language_info": {
      "codemirror_mode": {
        "name": "ipython",
        "version": 3
      },
      "file_extension": ".py",
      "mimetype": "text/x-python",
      "name": "python",
      "nbconvert_exporter": "python",
      "pygments_lexer": "ipython3",
      "version": "3.10.12"
    }
  },
  "nbformat": 4,
  "nbformat_minor": 0
}
