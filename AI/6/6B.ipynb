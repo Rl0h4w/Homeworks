{
  "cells": [
    {
      "cell_type": "markdown",
      "metadata": {
        "id": "0VIueBidmAuf"
      },
      "source": [
        "# Домашнее задание по теме «Нейронные сети»"
      ]
    },
    {
      "cell_type": "markdown",
      "metadata": {
        "id": "6mIvs64-PIuL"
      },
      "source": [
        "Сегодня мы продолжим работать с самописными слоями нейронных сетей, подогнав самописную функцию потерь под её библиотечный вариант.\n"
      ]
    },
    {
      "cell_type": "markdown",
      "metadata": {
        "id": "XXHX5pAY9JXt"
      },
      "source": [
        "## Библиотечная и кастомная реализация Cross-Entropy Loss"
      ]
    },
    {
      "cell_type": "markdown",
      "metadata": {
        "id": "_SRksYeV-n2B"
      },
      "source": [
        "Во время семинара мы работали с крос-энтропией (Cross-Entropy Loss). Тогда мы сделали выводы, что библиотечная PyTotch-функция реализует более сложную логику, чем ту, которую мы кодировали сами.\n",
        "\n",
        "**Чем отличаются функции потерь**\n",
        "\n",
        "Стандартная кросс-энтропия в PyTorch автоматически применяет `softmax` и `log` к логитам перед расчётом потерь. Кастомная реализация, которую мы написали, этого не делает, так как у нас `sigmoid`. Из-за этого потери могут различаться.\n",
        "\n",
        "**Почему потери не совпадают**\n",
        "\n",
        "Без `softmax` и `log` в кастомной реализации числовая стабильность теряется, что может приводить к различиям в значениях потерь.\n",
        "\n",
        "**Как привести к совпадению**\n",
        "\n",
        "Чтобы кастомная реализация совпала с PyTorch, нужно вручную применить `softmax` и `log` к логитам перед расчётом потерь. В `backward` нужно учитывать производные для `softmax`.\n",
        "\n",
        "Доработаем задачу из семинара, реализовав активацию через `LogSoftmax`."
      ]
    },
    {
      "cell_type": "markdown",
      "metadata": {
        "id": "PZFx7LGo_SKm"
      },
      "source": [
        "### LogSoftmax\n",
        "\n",
        " > [LogSoftmax](https://pytorch.org/docs/stable/generated/torch.nn.LogSoftmax.html) — функция, объединяющая функцию активации [Softmax](https://pytorch.org/docs/stable/generated/torch.nn.Softmax.html) и операцию взятия логарифма Log."
      ]
    },
    {
      "cell_type": "markdown",
      "metadata": {
        "id": "JI-P2mYc_XBO"
      },
      "source": [
        "Чтобы решить задачи многоклассовой классификации, обычно используют `softmax` в качестве нелинейности на последнем слое, чтобы получить оценку вероятности классов для каждого объекта:\n",
        "$$\\hat y = softmax(x)  = \\bigl \\{\\frac {exp(x_i)}{\\sum_j exp(x_j)} \\bigr \\}_{i=1}^K, \\quad K - \\text{число классов}.$$\n",
        "\n",
        "В этом случае удобно оптимизировать логарифм правдоподобия:$$L(y, \\hat y) = -\\sum_{i=1}^K y_i \\log \\hat y_i \\rightarrow \\min,$$где $y_i=1$, если объект принадлежит $i$-му классу, и $y_i=0$ в другом случае.\n",
        "\n",
        "Записанная в таком виде функция потерь совпадает с выражением Cross-Entropy Loss. Её можно переписать через индексацию, если через $y_i$ обозначить класс данного объекта:$$L(y, \\hat y) = - \\log \\hat y_{i} \\rightarrow \\min.$$\n",
        "В таком виде её удобно реализовывать.\n",
        "\n"
      ]
    },
    {
      "cell_type": "markdown",
      "metadata": {
        "id": "Nf1isHLvg23h"
      },
      "source": [
        "### LogSumExp"
      ]
    },
    {
      "cell_type": "markdown",
      "metadata": {
        "id": "MMDTk3Q9g3Iv"
      },
      "source": [
        "При работе с экспонентами в машинном обучении, часто возникает проблема численной нестабильности. Она проявляется в двух случаях:\n",
        "\n",
        "* **Переполнение** (`overflow`) — если значения слишком большие,\n",
        "`exp(x)` может стать бесконечным (`inf`).\n",
        "* **Потеря точности** (`underflow`) — если значения слишком маленькие, `exp(x)` превращается в ноль, и информация теряется."
      ]
    },
    {
      "cell_type": "markdown",
      "metadata": {
        "id": "ubNlg1QLiKkN"
      },
      "source": [
        "Чтобы такого не случилось, можно вынести максимум из экспонент вместо того, чтобы считать сумму напрямую:"
      ]
    },
    {
      "cell_type": "markdown",
      "metadata": {
        "id": "7q0JPQT_imDY"
      },
      "source": [
        "$$ log \\Sigma_i e^{(x_i)} = m + log \\Sigma_i e^{(x_i-m)}, $$"
      ]
    },
    {
      "cell_type": "markdown",
      "metadata": {
        "id": "4X26zswjimS-"
      },
      "source": [
        "где $m = max(x_i)$.\n",
        "\n",
        "Таким образом:\n",
        "\n",
        "* Если все $x_i$ большие, вычитание $m$ предотвращает переполнение.\n",
        "* Если все $x_i$ маленькие, сдвиг помогает отдалиться от нуля, предотвращая потерю точности."
      ]
    },
    {
      "cell_type": "markdown",
      "metadata": {
        "id": "w0QeRvdNBySg"
      },
      "source": [
        "## Задача 1 [5 баллов]"
      ]
    },
    {
      "cell_type": "markdown",
      "metadata": {
        "id": "37Q85lnlgyQB"
      },
      "source": [
        "Реализуй слой `LogSoftmax` (без параметров), дополнив код ниже. **[5 баллов]**\n",
        "\n",
        "Метод `forward` должен вычислять логарифм от `softmax`, а метод `backward` — пропускать градиенты. В общем случае в промежуточных вычислениях `backward` получится трёхмерный тензор, однако для нашей конкретной функции потерь все вычисления можно реализовать в матричном виде. Поэтому мы будем предполагать, что аргумент `grad_output` — это матрица, у которой в каждой строке только одно ненулевое значение (необязательно единица)."
      ]
    },
    {
      "cell_type": "markdown",
      "metadata": {
        "id": "4a30DJTRC1_7"
      },
      "source": [
        "<!-- Сейчас мы работаем с большим количеством математики и новым для вас функционалом PyTorch, поэтому задачки могут казаться сложными, непонятными и не интуитивными. Вот, что может помочь вам при работе над ними: -->\n",
        "\n",
        "> **Подсказка.** Сейчас мы работаем с большим количеством математических формул и с новой темой — функционалом PyTorch. Решение задач может быть сложным и неинтуитивным. При работе над задачами могут помочь эти ссылки:\n",
        "* [Документация PyTorch](https://pytorch.org/docs/stable/index.html) — весь функционал PyTorch, включая описания и примеры использорвания.\n",
        "* [Stack Overflow](https://stackoverflow.com/questions) — любые вопросы по коду или возникающим ошибкам.\n"
      ]
    },
    {
      "cell_type": "code",
      "execution_count": 12,
      "metadata": {
        "id": "n64X4FIh9Jhb"
      },
      "outputs": [],
      "source": [
        "import torch\n",
        "from torch.autograd import gradcheck\n",
        "\n",
        "class LogSoftmaxFunction(torch.autograd.Function):\n",
        "    @staticmethod\n",
        "    def forward(ctx, inp):\n",
        "        # Находим максимум по каждой строке (по классам), сохраняем его для числовой стабильности\n",
        "        c, arg_m = inp.max(dim=1, keepdim=True)# Твой код\n",
        "\n",
        "        # Создаём булевую маску, которая отмечает, какие элементы равны максимуму\n",
        "        mask = (inp==c)# Твой код\n",
        "\n",
        "        # Вычисляем logsumexp: log(sum(exp(inp - c))) для стабилизации softmax\n",
        "        lse = torch.log(torch.sum(torch.exp(inp-c), dim=1, keepdim=True))# Твой код\n",
        "\n",
        "        # Вычисляем log_softmax: inp - c - logsumexp(inp - c)\n",
        "        output = inp-c-lse# Твой код\n",
        "\n",
        "        # Сохраняем нормализованные входные данные и маску для backward\n",
        "        ctx.save_for_backward(inp - c, mask)\n",
        "\n",
        "        return output\n",
        "\n",
        "    @staticmethod\n",
        "    def backward(ctx, grad_output):\n",
        "        # Достаём сохранённые тензоры из forward\n",
        "        norm_inp, mask = ctx.saved_tensors\n",
        "\n",
        "        # Создаём булевую 3D-матрицу для выделения диагонали\n",
        "        diag_bool = torch.eye(norm_inp.shape[1], norm_inp.shape[1]) \\\n",
        "                        .expand(norm_inp.shape[0], norm_inp.shape[1], norm_inp.shape[1]) > 0\n",
        "\n",
        "        # Вычисляем сумму экспонент нормализованных входных данных (для нормализации softmax)\n",
        "        softmax = torch.exp(norm_inp) / torch.sum(\n",
        "            torch.exp(norm_inp), dim=1, keepdim=True\n",
        "        )\n",
        "\n",
        "        # Инициализируем матрицу Якоби, заполненную нулями\n",
        "        J = -softmax.unsqueeze(1).expand(-1, norm_inp.shape[1], -1).clone()\n",
        "\n",
        "        # Заполняем матрицу Якоби значениями производных softmax\n",
        "        # J[i, j] = -softmax(x_j) для всех элементов\n",
        "        # Твой код\n",
        "\n",
        "        # Добавляем 1 к диагональным элементам (учёт частной производной d(log_softmax)/dx)\n",
        "        J[diag_bool] += 1\n",
        "\n",
        "        # Умножаем матрицу Якоби на градиент из следующего слоя\n",
        "        grad_input = torch.bmm(grad_output.unsqueeze(1), J).squeeze(1)\n",
        "\n",
        "        # Убираем лишнюю размерность и возвращаем градиенты\n",
        "        return grad_input# Твой код"
      ]
    },
    {
      "cell_type": "code",
      "execution_count": 13,
      "metadata": {
        "id": "ofkKfDPvAdwx"
      },
      "outputs": [],
      "source": [
        "class LogSoftmax(torch.nn.Module):\n",
        "    def __init__(self):\n",
        "        super().__init__()\n",
        "        self.logsoftmax = LogSoftmaxFunction.apply# Твой код — посмотри, как мы делали это в семинаре\n",
        "\n",
        "    def forward(self, input):\n",
        "        return self.logsoftmax(input)# Твой код — посмотри, как мы делали это в семинаре"
      ]
    },
    {
      "cell_type": "markdown",
      "metadata": {
        "id": "W8nj-vJCAlaC"
      },
      "source": [
        "Проверим градиенты."
      ]
    },
    {
      "cell_type": "code",
      "execution_count": 14,
      "metadata": {
        "colab": {
          "base_uri": "https://localhost:8080/"
        },
        "id": "b34MyrXIAlpC",
        "outputId": "69a0269d-8ea8-4d55-dd40-5fe93f4f9a25"
      },
      "outputs": [
        {
          "name": "stderr",
          "output_type": "stream",
          "text": [
            "/home/rlohaw/Homeworks/AI/.venv/lib/python3.10/site-packages/torch/autograd/gradcheck.py:922: UserWarning: Input #0 requires gradient and is not a double precision floating point or complex. This check will likely fail if all the inputs are not of double precision floating point or complex. \n",
            "  warnings.warn(\n"
          ]
        }
      ],
      "source": [
        "# Если всё выполнено верно, то в выводе будет только 1 Warning\n",
        "\n",
        "logsoftmax = LogSoftmaxFunction.apply\n",
        "x = torch.rand((2,3), requires_grad=True)\n",
        "\n",
        "assert gradcheck(logsoftmax, x, eps=5e-3)"
      ]
    },
    {
      "cell_type": "code",
      "execution_count": 15,
      "metadata": {
        "id": "nXWQQ7rFAqCS"
      },
      "outputs": [],
      "source": [
        "# Если всё выполнено верно, то вывод будет пустой\n",
        "\n",
        "our_softmax = LogSoftmax()\n",
        "torch_softmax = torch.nn.LogSoftmax(dim=1)\n",
        "\n",
        "assert torch.norm(our_softmax(x.float()) - torch_softmax(x)) < 1e-5"
      ]
    },
    {
      "cell_type": "markdown",
      "metadata": {
        "id": "P8wUqHDtGYqC"
      },
      "source": [
        "## Задача 2 [3 балла]"
      ]
    },
    {
      "cell_type": "markdown",
      "metadata": {
        "id": "2CqrIeypOto9"
      },
      "source": [
        "Отлично! Теперь нужно заново собрать весь пайплайн решения (пользуйся функциями из семинара), заменив в архитектурах `sigmoid` на выходе на `logsoftmax`.\n",
        "\n",
        "Обучи самописную и PyTorch-модели так, чтобы значения `Accuracy` были сопоставимы для двух моделей. **[3 балла]**\n"
      ]
    },
    {
      "cell_type": "code",
      "execution_count": 16,
      "metadata": {
        "id": "NFJWecceGY8B"
      },
      "outputs": [
        {
          "name": "stdout",
          "output_type": "stream",
          "text": [
            "Training Custom Model:\n",
            "Epoch [1/5], Loss: 1.0767504290731222\n",
            "Epoch [2/5], Loss: 0.5867391810742523\n",
            "Epoch [3/5], Loss: 0.5113824698716593\n",
            "Epoch [4/5], Loss: 0.47375532558986116\n",
            "Epoch [5/5], Loss: 0.4500055497389104\n",
            "\n",
            "Training PyTorch Model:\n"
          ]
        },
        {
          "name": "stderr",
          "output_type": "stream",
          "text": [
            "/home/rlohaw/Homeworks/AI/.venv/lib/python3.10/site-packages/torch/nn/modules/module.py:1739: UserWarning: Implicit dimension choice for log_softmax has been deprecated. Change the call to include dim=X as an argument.\n",
            "  return self._call_impl(*args, **kwargs)\n"
          ]
        },
        {
          "name": "stdout",
          "output_type": "stream",
          "text": [
            "Epoch [1/5], Loss: 0.8160917324297972\n",
            "Epoch [2/5], Loss: 0.5244644225152062\n",
            "Epoch [3/5], Loss: 0.47397284932545763\n",
            "Epoch [4/5], Loss: 0.44699117927345383\n",
            "Epoch [5/5], Loss: 0.42769423184364336\n",
            "\n",
            "Testing Custom Model:\n",
            "Accuracy: 82.88%\n",
            "\n",
            "Testing PyTorch Model:\n",
            "Accuracy: 83.46%\n"
          ]
        }
      ],
      "source": [
        "import torch\n",
        "import torch.nn as nn\n",
        "from torch.utils.data import DataLoader\n",
        "from torchvision import datasets, transforms\n",
        "\n",
        "\n",
        "class CustomLinear(nn.Module):\n",
        "    def __init__(self, input_dim, output_dim):\n",
        "        super().__init__()\n",
        "        self.W = nn.Parameter(torch.randn(output_dim, input_dim) * 0.01)\n",
        "        self.b = nn.Parameter(torch.zeros(output_dim))\n",
        "\n",
        "    def forward(self, x):\n",
        "        return torch.matmul(x, self.W.T) + self.b\n",
        "\n",
        "\n",
        "class CustomReLU(nn.Module):\n",
        "    def __init__(self):\n",
        "        super().__init__()\n",
        "\n",
        "    def forward(self, x):\n",
        "        return torch.maximum(x, torch.tensor(0.0))\n",
        "\n",
        "\n",
        "class CustomSigmoid(nn.Module):\n",
        "    def __init__(self):\n",
        "        super().__init__()\n",
        "\n",
        "    def forward(self, x):\n",
        "        return 1 / (1 + torch.exp(-x))\n",
        "\n",
        "\n",
        "class CustomModel(nn.Module):\n",
        "    def __init__(self, input_dim, hidden_dim, output_dim):\n",
        "        super().__init__()\n",
        "        self.linear1 = CustomLinear(input_dim, hidden_dim)\n",
        "        self.relu = CustomReLU()\n",
        "        self.linear2 = CustomLinear(hidden_dim, output_dim)\n",
        "        self.logsoftmax = LogSoftmax()  \n",
        "\n",
        "    def forward(self, x):\n",
        "        x = x.view(x.size(0), -1)  \n",
        "        x = self.linear1(x)\n",
        "        x = self.relu(x)\n",
        "        x = self.linear2(x)\n",
        "        x = self.logsoftmax(x)\n",
        "        return x\n",
        "\n",
        "\n",
        "class CrossEntropyFunction(torch.autograd.Function):\n",
        "    @staticmethod\n",
        "    def forward(ctx, activations, target):\n",
        "        probs = torch.softmax(activations, dim=1)\n",
        "        ctx.save_for_backward(probs, target)\n",
        "        loss = -torch.log(probs[range(len(target)), target]).mean()\n",
        "        return loss\n",
        "\n",
        "    @staticmethod\n",
        "    def backward(ctx, grad_output):\n",
        "        probs, target = ctx.saved_tensors\n",
        "        batch_size = probs.shape[0]\n",
        "        grad_input = probs.clone()\n",
        "        tmp = torch.zeros_like(probs)\n",
        "        tmp[torch.arange(batch_size), target] = -1.0\n",
        "        grad_input = (grad_input + tmp) / batch_size\n",
        "        grad_input = grad_input * grad_output\n",
        "        return grad_input, None\n",
        "\n",
        "\n",
        "class CrossEntropyCustom(nn.Module):\n",
        "    def __init__(self):\n",
        "        super().__init__()\n",
        "\n",
        "    def forward(self, activations, target):\n",
        "        return CrossEntropyFunction.apply(activations, target)\n",
        "\n",
        "\n",
        "class PyTorchModel(nn.Module):\n",
        "    def __init__(self, input_dim, hidden_dim, output_dim):\n",
        "        super().__init__()\n",
        "        self.linear1 = nn.Linear(input_dim, hidden_dim)\n",
        "        self.relu = nn.ReLU()\n",
        "        self.linear2 = nn.Linear(hidden_dim, output_dim)\n",
        "        self.sigmoid = nn.LogSoftmax()\n",
        "\n",
        "    def forward(self, x):\n",
        "        x = x.view(x.size(0), -1)\n",
        "        x = self.linear1(x)\n",
        "        x = self.relu(x)\n",
        "        x = self.linear2(x)\n",
        "        x = self.sigmoid(x)\n",
        "        return x\n",
        "\n",
        "\n",
        "def train(model, criterion, optimizer, data_loader, epochs=5):\n",
        "    for epoch in range(epochs):\n",
        "        total_loss = 0\n",
        "        for data, target in data_loader:\n",
        "            optimizer.zero_grad()\n",
        "            output = model(data)\n",
        "            loss = criterion(output, target)\n",
        "            loss.backward()\n",
        "            optimizer.step()\n",
        "            total_loss += loss.item()\n",
        "\n",
        "        print(f\"Epoch [{epoch+1}/{epochs}], Loss: {total_loss/len(data_loader)}\")\n",
        "\n",
        "\n",
        "def test(model, test_loader):\n",
        "    model.eval()\n",
        "    correct = 0\n",
        "    total = 0\n",
        "    with torch.no_grad():\n",
        "        for data, target in test_loader:\n",
        "            output = model(data)\n",
        "            predicted = torch.argmax(output, dim=1)\n",
        "            correct += (predicted == target).sum().item()\n",
        "            total += target.size(0)\n",
        "\n",
        "    print(f\"Accuracy: {100 * correct / total}%\")\n",
        "\n",
        "\n",
        "transform = transforms.Compose(\n",
        "    [transforms.ToTensor(), transforms.Normalize((0.5,), (0.5,))]\n",
        ")\n",
        "\n",
        "train_dataset = datasets.FashionMNIST(\n",
        "    root=\"./data\", train=True, download=True, transform=transform\n",
        ")\n",
        "test_dataset = datasets.FashionMNIST(\n",
        "    root=\"./data\", train=False, download=True, transform=transform\n",
        ")\n",
        "\n",
        "train_loader = DataLoader(train_dataset, batch_size=64, shuffle=True)\n",
        "test_loader = DataLoader(test_dataset, batch_size=64, shuffle=False)\n",
        "\n",
        "input_dim = 784  \n",
        "hidden_dim = 128\n",
        "output_dim = 10  \n",
        "\n",
        "custom_model = CustomModel(input_dim, hidden_dim, output_dim)\n",
        "pytorch_model = PyTorchModel(input_dim, hidden_dim, output_dim)\n",
        "\n",
        "optimizer_custom = torch.optim.SGD(custom_model.parameters(), lr=0.01)\n",
        "optimizer_pytorch = torch.optim.SGD(pytorch_model.parameters(), lr=0.01)\n",
        "\n",
        "criterion = CrossEntropyCustom()\n",
        "\n",
        "print(\"Training Custom Model:\")\n",
        "train(custom_model, criterion, optimizer_custom, train_loader, epochs=5)\n",
        "\n",
        "print(\"\\nTraining PyTorch Model:\")\n",
        "train(pytorch_model, nn.CrossEntropyLoss(), optimizer_pytorch, train_loader, epochs=5)\n",
        "\n",
        "print(\"\\nTesting Custom Model:\")\n",
        "test(custom_model, test_loader)\n",
        "\n",
        "print(\"\\nTesting PyTorch Model:\")\n",
        "test(pytorch_model, test_loader)"
      ]
    },
    {
      "cell_type": "markdown",
      "metadata": {
        "id": "bjMpTopOQt6q"
      },
      "source": [
        "## Задача 3 [2 балла]"
      ]
    },
    {
      "cell_type": "markdown",
      "metadata": {
        "id": "qLnJbJXBROik"
      },
      "source": [
        "Мы уже познакомились с разными функциями активации, например: `ReLU`, `Sigmoid` и `Softmax`. Однако их существует гораздо больше.\n",
        "\n",
        "Это задание — творческое и направлено на расширение кругозора. Проведи небольшое исследование, выбери **две функции активации** (по 1 баллу за каждую), реализуй их кастомные версии, а затем сравни с их имплементацией в PyTorch. **[2 балла]**"
      ]
    },
    {
      "cell_type": "markdown",
      "metadata": {
        "id": "RAJYvkCDRKId"
      },
      "source": [
        "1. **Проверь на одинаковые выходные значения**\n",
        "\n",
        " Подай одинаковый вход (`input`) в обе функции и сравни `output`. Если они разные, возможно, ошибка в реализации.\n",
        "2. **Проверь градиенты (gradcheck)**\n",
        "\n",
        " PyTorch предоставляет `torch.autograd.gradcheck()`, который проверяет правильность градиентов методом численного дифференцирования.\n",
        "3. **Визуализируй выходы и градиенты**\n",
        "\n",
        " Построй графики: `input` → `output` и `input` → `gradient`.\n",
        "4. **Проверь производительность (скорость выполнения)**\n",
        "\n",
        " Засеки время выполнения `.forward()` и `.backward()`.\n",
        "Самописная функция, скорее всего, будет медленнее из-за неэффективной реализации."
      ]
    },
    {
      "cell_type": "code",
      "execution_count": null,
      "metadata": {
        "id": "xV0wMnZeQuGW"
      },
      "outputs": [
        {
          "name": "stdout",
          "output_type": "stream",
          "text": [
            "ELU: Выходы совпадают? True\n",
            "Swish: Выходы совпадают? True\n",
            "Gradcheck для Custom ELU: True\n",
            "Gradcheck для Custom Swish: True\n"
          ]
        },
        {
          "data": {
            "image/png": "[encoded data removed]",
            "text/plain": [
              "<Figure size 1200x500 with 2 Axes>"
            ]
          },
          "metadata": {},
          "output_type": "display_data"
        },
        {
          "data": {
            "image/png": "[encoded data removed]",
            "text/plain": [
              "<Figure size 1200x500 with 2 Axes>"
            ]
          },
          "metadata": {},
          "output_type": "display_data"
        },
        {
          "name": "stdout",
          "output_type": "stream",
          "text": [
            "ELU:\n",
            "Custom ELU: forward = 0.143567s, backward = 0.362345s\n",
            "Builtin ELU: forward = 0.050183s, backward = 0.189563s\n",
            "\n",
            "Swish:\n",
            "Custom Swish: forward = 0.084363s, backward = 0.289915s\n",
            "Builtin Swish: forward = 0.056885s, backward = 0.232665s\n"
          ]
        }
      ],
      "source": [
        "import torch\n",
        "import torch.nn.functional as F\n",
        "import time\n",
        "import matplotlib.pyplot as plt\n",
        "\n",
        "\n",
        "\n",
        "class CustomELU(torch.autograd.Function):\n",
        "    @staticmethod\n",
        "    def forward(ctx, input, alpha=1.0):\n",
        "        ctx.alpha = alpha\n",
        "        ctx.save_for_backward(input)\n",
        "        output = torch.where(input >= 0, input, alpha * (torch.exp(input) - 1))\n",
        "        return output\n",
        "\n",
        "    @staticmethod\n",
        "    def backward(ctx, grad_output):\n",
        "        (input,) = ctx.saved_tensors\n",
        "        alpha = ctx.alpha\n",
        "        grad_input = grad_output * torch.where(\n",
        "            input >= 0, torch.ones_like(input), alpha * torch.exp(input)\n",
        "        )\n",
        "        return grad_input, None\n",
        "\n",
        "\n",
        "class CustomELUModule(torch.nn.Module):\n",
        "    def __init__(self, alpha=1.0):\n",
        "        super(CustomELUModule, self).__init__()\n",
        "        self.alpha = alpha\n",
        "\n",
        "    def forward(self, input):\n",
        "        return CustomELU.apply(input, self.alpha)\n",
        "\n",
        "\n",
        "class CustomSwish(torch.autograd.Function):\n",
        "    @staticmethod\n",
        "    def forward(ctx, input):\n",
        "        sigmoid = torch.sigmoid(input)\n",
        "        ctx.save_for_backward(input, sigmoid)\n",
        "        return input * sigmoid\n",
        "\n",
        "    @staticmethod\n",
        "    def backward(ctx, grad_output):\n",
        "        input, sigmoid = ctx.saved_tensors\n",
        "        grad_input = grad_output * (sigmoid + input * sigmoid * (1 - sigmoid))\n",
        "        return grad_input\n",
        "\n",
        "\n",
        "class CustomSwishModule(torch.nn.Module):\n",
        "    def forward(self, input):\n",
        "        return CustomSwish.apply(input)\n",
        "\n",
        "\n",
        "BuiltinELUModule = torch.nn.ELU(alpha=1.0)\n",
        "\n",
        "\n",
        "# Встроенная Swish: определим через x * sigmoid(x), к сожалению нет в торче(\n",
        "class BuiltinSwishModule(torch.nn.Module):\n",
        "    def forward(self, input):\n",
        "        return input * torch.sigmoid(input)\n",
        "\n",
        "\n",
        "BuiltinSwishModule = BuiltinSwishModule()\n",
        "\n",
        "\n",
        "torch.manual_seed(0)\n",
        "input_data = torch.randn(100, requires_grad=True, dtype=torch.double)\n",
        "\n",
        "custom_elu = CustomELUModule(alpha=1.0).double()\n",
        "pt_elu = BuiltinELUModule.double()\n",
        "\n",
        "output_custom_elu = custom_elu(input_data)\n",
        "output_pt_elu = pt_elu(input_data)\n",
        "print(\n",
        "    \"ELU: Выходы совпадают?\",\n",
        "    torch.allclose(output_custom_elu, output_pt_elu, atol=1e-6),\n",
        ")\n",
        "\n",
        "custom_swish = CustomSwishModule().double()\n",
        "pt_swish = BuiltinSwishModule.double()\n",
        "\n",
        "output_custom_swish = custom_swish(input_data)\n",
        "output_pt_swish = pt_swish(input_data)\n",
        "print(\n",
        "    \"Swish: Выходы совпадают?\",\n",
        "    torch.allclose(output_custom_swish, output_pt_swish, atol=1e-6),\n",
        ")\n",
        "\n",
        "input_for_gradcheck = input_data.clone().detach().requires_grad_(True)\n",
        "gradcheck_elu = torch.autograd.gradcheck(\n",
        "    lambda x: CustomELU.apply(x, 1.0), input_for_gradcheck\n",
        ")\n",
        "print(\"Gradcheck для Custom ELU:\", gradcheck_elu)\n",
        "\n",
        "input_for_gradcheck = input_data.clone().detach().requires_grad_(True)\n",
        "gradcheck_swish = torch.autograd.gradcheck(CustomSwish.apply, input_for_gradcheck)\n",
        "print(\"Gradcheck для Custom Swish:\", gradcheck_swish)\n",
        "\n",
        "\n",
        "\n",
        "\n",
        "def get_gradients(module, input_data):\n",
        "    input_var = input_data.clone().detach().requires_grad_(True)\n",
        "    output = module(input_var)\n",
        "    output.sum().backward()\n",
        "    return input_var, output, input_var.grad\n",
        "\n",
        "\n",
        "in_elu, out_elu, grad_elu = get_gradients(custom_elu, input_data)\n",
        "plt.figure(figsize=(12, 5))\n",
        "plt.subplot(1, 2, 1)\n",
        "plt.scatter(in_elu.detach().numpy(), out_elu.detach().numpy(), c=\"blue\", label=\"Output\")\n",
        "plt.xlabel(\"Input\")\n",
        "plt.ylabel(\"Output\")\n",
        "plt.title(\"Custom ELU: Input vs Output\")\n",
        "plt.legend()\n",
        "\n",
        "plt.subplot(1, 2, 2)\n",
        "plt.scatter(\n",
        "    in_elu.detach().numpy(), grad_elu.detach().numpy(), c=\"red\", label=\"Gradient\"\n",
        ")\n",
        "plt.xlabel(\"Input\")\n",
        "plt.ylabel(\"Gradient\")\n",
        "plt.title(\"Custom ELU: Input vs Gradient\")\n",
        "plt.legend()\n",
        "plt.show()\n",
        "\n",
        "in_swish, out_swish, grad_swish = get_gradients(custom_swish, input_data)\n",
        "plt.figure(figsize=(12, 5))\n",
        "plt.subplot(1, 2, 1)\n",
        "plt.scatter(\n",
        "    in_swish.detach().numpy(), out_swish.detach().numpy(), c=\"blue\", label=\"Output\"\n",
        ")\n",
        "plt.xlabel(\"Input\")\n",
        "plt.ylabel(\"Output\")\n",
        "plt.title(\"Custom Swish: Input vs Output\")\n",
        "plt.legend()\n",
        "\n",
        "plt.subplot(1, 2, 2)\n",
        "plt.scatter(\n",
        "    in_swish.detach().numpy(), grad_swish.detach().numpy(), c=\"red\", label=\"Gradient\"\n",
        ")\n",
        "plt.xlabel(\"Input\")\n",
        "plt.ylabel(\"Gradient\")\n",
        "plt.title(\"Custom Swish: Input vs Gradient\")\n",
        "plt.legend()\n",
        "plt.show()\n",
        "\n",
        "\n",
        "\n",
        "def measure_time(module, input_data, n_iter=1000):\n",
        "    input_var = input_data.clone().detach().requires_grad_(True)\n",
        "    # Прогрев )))   (на серверных видюхах прогрев решает)\n",
        "    for _ in range(10):\n",
        "        out = module(input_var)\n",
        "        out.sum().backward()\n",
        "    if torch.cuda.is_available():\n",
        "        torch.cuda.synchronize()\n",
        "    start = time.time()\n",
        "    for _ in range(n_iter):\n",
        "        input_var = input_data.clone().detach().requires_grad_(True)\n",
        "        out = module(input_var)\n",
        "    if torch.cuda.is_available():\n",
        "        torch.cuda.synchronize()\n",
        "    forward_time = time.time() - start\n",
        "\n",
        "    start = time.time()\n",
        "    for _ in range(n_iter):\n",
        "        input_var = input_data.clone().detach().requires_grad_(True)\n",
        "        out = module(input_var)\n",
        "        out.sum().backward()\n",
        "    if torch.cuda.is_available():\n",
        "        torch.cuda.synchronize()\n",
        "    backward_time = time.time() - start\n",
        "\n",
        "    return forward_time, backward_time\n",
        "\n",
        "\n",
        "custom_elu = CustomELUModule(alpha=1.0).double()\n",
        "pt_elu = BuiltinELUModule.double()\n",
        "custom_swish = CustomSwishModule().double()\n",
        "pt_swish = BuiltinSwishModule.double()\n",
        "\n",
        "forward_custom_elu, backward_custom_elu = measure_time(custom_elu, input_data)\n",
        "forward_pt_elu, backward_pt_elu = measure_time(pt_elu, input_data)\n",
        "\n",
        "print(\"ELU:\")\n",
        "print(\n",
        "    \"Custom ELU: forward = {:.6f}s, backward = {:.6f}s\".format(\n",
        "        forward_custom_elu, backward_custom_elu\n",
        "    )\n",
        ")\n",
        "print(\n",
        "    \"Builtin ELU: forward = {:.6f}s, backward = {:.6f}s\".format(\n",
        "        forward_pt_elu, backward_pt_elu\n",
        "    )\n",
        ")\n",
        "\n",
        "forward_custom_swish, backward_custom_swish = measure_time(custom_swish, input_data)\n",
        "forward_pt_swish, backward_pt_swish = measure_time(pt_swish, input_data)\n",
        "\n",
        "print(\"\\nSwish:\")\n",
        "print(\n",
        "    \"Custom Swish: forward = {:.6f}s, backward = {:.6f}s\".format(\n",
        "        forward_custom_swish, backward_custom_swish\n",
        "    )\n",
        ")\n",
        "print(\n",
        "    \"Builtin Swish: forward = {:.6f}s, backward = {:.6f}s\".format(\n",
        "        forward_pt_swish, backward_pt_swish\n",
        "    )\n",
        ")"
      ]
    }
  ],
  "metadata": {
    "colab": {
      "provenance": []
    },
    "kernelspec": {
      "display_name": "Python 3",
      "name": "python3"
    },
    "language_info": {
      "name": "python"
    }
  },
  "nbformat": 4,
  "nbformat_minor": 0
}
