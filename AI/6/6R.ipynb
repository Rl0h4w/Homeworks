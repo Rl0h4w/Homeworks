{
  "cells": [
    {
      "cell_type": "markdown",
      "metadata": {
        "id": "-P4IWwSX7RF8"
      },
      "source": [
        "# Домашнее задание по теме «Нейронные сети»\n",
        "\n",
        "Сегодня ты продолжишь решать задачу классификации чисел MNIST с помощью нейросети.\n",
        "\n",
        "В этом домашнем задании тебе нужно:\n",
        "- добавить вычисление метрики на этапе валидации;\n",
        "- вспомнить про нормализацию данных и применить её;\n",
        "- познакомиться с популярным блоком нейросети `BatchNorm`;\n",
        "- применить шедулер."
      ]
    },
    {
      "cell_type": "markdown",
      "metadata": {
        "id": "_cKqGHU285u8"
      },
      "source": [
        "## Задача 1. Метрика на валидации [3 балла]\n",
        "\n",
        "На семинаре во время валидации нейросети мы считали `loss`. Это вполне корректное действие, и так можно и нужно валидироваться. Однако `loss` далеко не всегда понятен для бизнеса как мера качества решения задачи. Для этого существуют метрики.\n",
        "\n",
        "Проблема в том, что не все метрики можно оптимизировать напрямую. Но если нужно получить оценку качества работы нашего алгоритма именно на метрике, то вычислить её можно на этапе валидации.\n",
        "\n",
        "В этом и состоит первая задача. Для этого нужно:\n",
        "1. Добавить вычисление метрики `Accuracy` из `sklearn` после этапа валидации на эпохе (подробности в коде). **[1 балл]**\n",
        "2. Добавить в `print` лог, который выводит значение `Accuracy` на валидации. **[0,5 балла]**\n",
        "3. Обучить модель с семинара с реализованным вычислением `Accuracy` **[0,5 балла по метрике]**. Не забудь скачать веса лучшей модели и прикрепить их к домашнему заданию.\n",
        "4. Описать, что получилось. Обрати особое внимание, как соотносится `loss` и значение метрики на валидации. Всегда ли оптимальная модель по `loss` оптимальна и по метрике? **[1 балл]**\n",
        "\n",
        "> **Важно.** Запомни, какой результат получился на валидации. Дальше ты будешь усложнять решение задачи. Это повлияет на качество её решения."
      ]
    },
    {
      "cell_type": "markdown",
      "metadata": {
        "id": "LW675Ie7_lHp"
      },
      "source": [
        "### Твоё решение задачи 1"
      ]
    },
    {
      "cell_type": "markdown",
      "metadata": {
        "id": "dlM1YcEbCzK9"
      },
      "source": [
        "> **Подсказка.** Следующие несколько ячеек — код с семинара. Просто запусти их. Когда тебе потребуется что-то написать, это будет выделено жирным."
      ]
    },
    {
      "cell_type": "code",
      "execution_count": 30,
      "metadata": {
        "id": "qFdXd77zC-v-"
      },
      "outputs": [],
      "source": [
        "# Импортируем нужные пакеты\n",
        "import torch\n",
        "import torch.nn as nn\n",
        "import numpy as np\n",
        "\n",
        "from torch.utils.data import Dataset, DataLoader\n",
        "from torchvision.datasets import MNIST\n",
        "\n",
        "from tqdm import tqdm"
      ]
    },
    {
      "cell_type": "code",
      "execution_count": 31,
      "metadata": {
        "id": "vuT-0hS1C-v_"
      },
      "outputs": [],
      "source": [
        "# Загружаем датасет\n",
        "train_ = MNIST('../Datasets', # Папка для сохранения или загрузки\n",
        "              download=True, # Если нет в папке, скачиваем из интернета\n",
        "              train=True,\n",
        "              ) # train-подвыборка\n",
        "test = MNIST(\"../Datasets\", download=True, train=False)\n",
        "\n",
        "# Для начала достанем все данные из нашего датасета\n",
        "X_train, y_train = train_.data, train_.targets\n",
        "X_test, y_test = test.data, test.targets"
      ]
    },
    {
      "cell_type": "code",
      "execution_count": 32,
      "metadata": {
        "id": "52c6-_jIC-wA"
      },
      "outputs": [],
      "source": [
        "# Определим класс датасета\n",
        "class DatasetMNIST(Dataset):\n",
        "\n",
        "  def __init__(self, X, y, device=\"cuda\"):\n",
        "    self.X = X.flatten(start_dim=1) / 255\n",
        "    self.y = y\n",
        "    self.device=device\n",
        "  def __len__(self):\n",
        "    return len(self.y)\n",
        "\n",
        "  def __getitem__(self, idx):\n",
        "    return self.X[idx].to(self.device), self.y[idx].to(self.device)"
      ]
    },
    {
      "cell_type": "code",
      "execution_count": 33,
      "metadata": {
        "id": "rTMVcRaCC-wB"
      },
      "outputs": [],
      "source": [
        "# Определим новые датасеты\n",
        "train_ds = DatasetMNIST(X_train, y_train)\n",
        "test_ds = DatasetMNIST(X_test, y_test)"
      ]
    },
    {
      "cell_type": "code",
      "execution_count": 34,
      "metadata": {
        "id": "SQn4W296C-wB"
      },
      "outputs": [],
      "source": [
        "# Определим DataLoader\n",
        "train_dl = DataLoader(\n",
        "    train_ds, # Наш датасет\n",
        "    batch_size=64, # Размер батча. Меньше 32, согласно многим исследованиям, ставить не рекоммендуется из-за потерь в качестве\n",
        "    shuffle=True, # Указываем, перемешивать ли данные перед каждой эпохой (проходом по данным). Для train-подвыборки всегда ставим True, кроме единичных исключений\n",
        "    drop_last=True, # Если наш последний батч будет неполным, то не обучаемся на нём\n",
        "    num_workers=4, # Указываем, сколько процессов будут собирать данные в батч. Обычно выбирают по числу ядер\n",
        "    persistent_workers=True # Используем, чтобы не создавать каждый раз новый процесс при обращении к DataLoader. Полезно для небольшого ускорения исполнения\n",
        ")\n",
        "\n",
        "test_dl = DataLoader(\n",
        "    test_ds, # Тестовый датасет\n",
        "    batch_size=64*4, # Для скорости можно установить значение больше, чем на train. Если только получаем предсказания, а не обучаемся, то нужно меньше ресурсов, а значит, в GPU поместится батч большего размера\n",
        "    shuffle=False, # Не будем перемешивать\n",
        "    drop_last=False, # И исключать неполный батч тоже не будем, потому что нам нужны предсказания для него\n",
        "    num_workers=4,\n",
        "    persistent_workers=True\n",
        ")"
      ]
    },
    {
      "cell_type": "code",
      "execution_count": 35,
      "metadata": {
        "id": "GslDuA7Acln5"
      },
      "outputs": [],
      "source": [
        "# Функция для одного шага обучения. Вставь код с семинара\n",
        "def train_step(batch, model, loss, optimizer, device):\n",
        "\n",
        "    # Обнуляем градиенты\n",
        "    model.zero_grad()\n",
        "\n",
        "    X, y = batch\n",
        "    # Раздели батч на данные и метку = batch\n",
        "    X = X.to(device)\n",
        "    y = y.to(device)\n",
        "\n",
        "    # Пропускаем данные через модель\n",
        "    # Логиты — выход из последнего слоя нейросети, но основе которых решается задача\n",
        "    logits = model(X)\n",
        "    # Считаем loss\n",
        "    l = loss(logits, y)\n",
        "\n",
        "    # Обратное распространение ошибки\n",
        "    l.backward()\n",
        "\n",
        "    # Шаг оптимизатора\n",
        "    optimizer.step()\n",
        "\n",
        "    return l.item()"
      ]
    },
    {
      "cell_type": "code",
      "execution_count": 36,
      "metadata": {
        "id": "D0iuSPQ6DSeY"
      },
      "outputs": [],
      "source": [
        "# Функция для одного шага обучения\n",
        "def train_step(batch, model, loss, optimizer, device):\n",
        "\n",
        "    X, y = batch\n",
        "    X = X.to(device)\n",
        "    y = y.to(device)\n",
        "\n",
        "    model.zero_grad()\n",
        "\n",
        "    logits = model(X)\n",
        "    l = loss(logits, y)\n",
        "\n",
        "    l.backward()\n",
        "    optimizer.step()\n",
        "\n",
        "    return l.item()"
      ]
    },
    {
      "cell_type": "code",
      "execution_count": 37,
      "metadata": {
        "id": "MlTutuMNDS7v"
      },
      "outputs": [],
      "source": [
        "# Функция для обучения на эпохе\n",
        "def train(model, loss, optimizer, device, train_dataloader):\n",
        "    model.train()\n",
        "    train_loss = 0\n",
        "\n",
        "    for batch in tqdm(train_dataloader):\n",
        "      loss_step = train_step(batch, model, loss, optimizer, device)\n",
        "      train_loss += loss_step / len(train_dataloader)\n",
        "\n",
        "    return train_loss"
      ]
    },
    {
      "cell_type": "code",
      "execution_count": 38,
      "metadata": {
        "id": "vLqlFiqmDXNR"
      },
      "outputs": [],
      "source": [
        "# Функция для одного шага валидации\n",
        "def valid_step(batch, model, loss, device):\n",
        "\n",
        "      X, y = batch\n",
        "      X = X.to(device)\n",
        "      y = y.to(device)\n",
        "\n",
        "      with torch.no_grad():\n",
        "        logits = model(X)\n",
        "        l = loss(logits, y)\n",
        "\n",
        "      return logits.argmax(dim=-1).detach().cpu().numpy(), l.item()"
      ]
    },
    {
      "cell_type": "code",
      "execution_count": 39,
      "metadata": {
        "id": "vmJPPLcWD3Y-"
      },
      "outputs": [],
      "source": [
        "# Функция для всей валидации на эпохе, будем использовать её также для получения предсказаний\n",
        "def validate(model, loss, device, val_dataloader):\n",
        "  model.eval()\n",
        "  val_loss = 0\n",
        "  preds = []\n",
        "  for batch in tqdm(val_dataloader):\n",
        "    preds_step, loss_step = valid_step(batch, model, loss, device)\n",
        "\n",
        "    val_loss += loss_step / len(val_dataloader)\n",
        "    preds.append(preds_step)\n",
        "\n",
        "  preds = np.concatenate(preds)\n",
        "\n",
        "  return preds, val_loss"
      ]
    },
    {
      "cell_type": "markdown",
      "metadata": {
        "id": "8UdNtY5MDMp3"
      },
      "source": [
        "Добавь в функцию `train_and_validate`:\n",
        "* вычисление `Accuracy` после валидации;\n",
        "* печать соответствующего лога.\n",
        "\n",
        "> **Добавь свой код в ячейки ниже.**"
      ]
    },
    {
      "cell_type": "code",
      "execution_count": 40,
      "metadata": {
        "id": "mhhe2WD4D5S4"
      },
      "outputs": [],
      "source": [
        "def train_and_validate(\n",
        "    epochs,\n",
        "    model,\n",
        "    loss,\n",
        "    optimizer,\n",
        "    device,\n",
        "    train_dataloader,\n",
        "    val_dataloader,\n",
        "    save_every=1,\n",
        "    naming=\"\",\n",
        "):\n",
        "\n",
        "    model.to(device)\n",
        "    best_acc = -1\n",
        "    for e in range(epochs):\n",
        "\n",
        "        train_loss = train(model, loss, optimizer, device, train_dataloader)\n",
        "        val_preds, val_loss = validate(model, loss, device, val_dataloader)\n",
        "\n",
        "        val_targets = torch.cat([y.to(device) for _, y in val_dataloader])\n",
        "        valid_acc = (val_preds == val_targets.cpu()).numpy().mean()\n",
        "\n",
        "        print(\n",
        "            f\"Эпоха: {e} | Train Loss {train_loss} | Val Loss {val_loss} | Val_acc {valid_acc}\"\n",
        "        )  # Добавь в print полученное значение с соответствующей подписью\n",
        "\n",
        "        if e % save_every == 0 and valid_acc > best_acc:\n",
        "            torch.save(\n",
        "                model.state_dict(), f\"model_epoch_{e}{naming}_acc_{valid_acc:.4f}.pth\"\n",
        "            )\n",
        "            best_acc = valid_acc"
      ]
    },
    {
      "cell_type": "code",
      "execution_count": 41,
      "metadata": {
        "id": "JBqM1uYKFvxb"
      },
      "outputs": [],
      "source": [
        "# Определяем модель с семинара, тут можешь ничего не трогать. Сеть с семинара подойдёт\n",
        "class FCMNIST(nn.Module):\n",
        "\n",
        "  def __init__(self):\n",
        "    super().__init__() # Не забываем super init сделать, без этого ничего работать не будет\n",
        "\n",
        "    # Линейный слой —> ReLU —> Линейный слой —> и так далее\n",
        "    self.net = nn.Sequential(\n",
        "        nn.Linear(784, 392),\n",
        "        nn.ReLU(),\n",
        "        nn.Linear(392, 191),\n",
        "        nn.ReLU(),\n",
        "        nn.Linear(191, 80),\n",
        "        nn.ReLU(),\n",
        "        nn.Linear(80, 40),\n",
        "        nn.ReLU(),\n",
        "        nn.Linear(40, 10)\n",
        "    )\n",
        "\n",
        "  def forward(self, X):\n",
        "    return self.net(X)"
      ]
    },
    {
      "cell_type": "code",
      "execution_count": 42,
      "metadata": {
        "id": "mth8x0MVF34X"
      },
      "outputs": [],
      "source": [
        "model = FCMNIST()\n",
        "optimizer = torch.optim.SGD(model.parameters(), lr=1e-1)\n",
        "loss = (\n",
        "    nn.CrossEntropyLoss()\n",
        ")  # Кросс-энтропия, самая популярная функция потерь для решения задачи классификации. Разбиралась на лекциях\n",
        "epochs = 10\n",
        "device = torch.device(\"cuda\" if torch.cuda.is_available() else \"cpu\")"
      ]
    },
    {
      "cell_type": "code",
      "execution_count": 43,
      "metadata": {
        "id": "_hsXZDwsF7CB"
      },
      "outputs": [
        {
          "name": "stderr",
          "output_type": "stream",
          "text": [
            "  0%|          | 0/937 [00:00<?, ?it/s]\n"
          ]
        },
        {
          "ename": "RuntimeError",
          "evalue": "Caught RuntimeError in DataLoader worker process 0.\nOriginal Traceback (most recent call last):\n  File \"/home/rlohaw/Homeworks/AI/.venv/lib/python3.10/site-packages/torch/utils/data/_utils/worker.py\", line 349, in _worker_loop\n    data = fetcher.fetch(index)  # type: ignore[possibly-undefined]\n  File \"/home/rlohaw/Homeworks/AI/.venv/lib/python3.10/site-packages/torch/utils/data/_utils/fetch.py\", line 52, in fetch\n    data = [self.dataset[idx] for idx in possibly_batched_index]\n  File \"/home/rlohaw/Homeworks/AI/.venv/lib/python3.10/site-packages/torch/utils/data/_utils/fetch.py\", line 52, in <listcomp>\n    data = [self.dataset[idx] for idx in possibly_batched_index]\n  File \"/tmp/ipykernel_150254/2139042691.py\", line 12, in __getitem__\n    return self.X[idx].to(self.device), self.y[idx].to(self.device)\n  File \"/home/rlohaw/Homeworks/AI/.venv/lib/python3.10/site-packages/torch/cuda/__init__.py\", line 305, in _lazy_init\n    raise RuntimeError(\nRuntimeError: Cannot re-initialize CUDA in forked subprocess. To use CUDA with multiprocessing, you must use the 'spawn' start method\n",
          "output_type": "error",
          "traceback": [
            "\u001b[0;31m---------------------------------------------------------------------------\u001b[0m",
            "\u001b[0;31mRuntimeError\u001b[0m                              Traceback (most recent call last)",
            "Cell \u001b[0;32mIn[43], line 2\u001b[0m\n\u001b[1;32m      1\u001b[0m \u001b[38;5;66;03m# Запусти\u001b[39;00m\n\u001b[0;32m----> 2\u001b[0m \u001b[43mtrain_and_validate\u001b[49m\u001b[43m(\u001b[49m\u001b[43mepochs\u001b[49m\u001b[43m,\u001b[49m\u001b[43m \u001b[49m\u001b[43mmodel\u001b[49m\u001b[43m,\u001b[49m\u001b[43m \u001b[49m\u001b[43mloss\u001b[49m\u001b[43m,\u001b[49m\u001b[43m \u001b[49m\u001b[43moptimizer\u001b[49m\u001b[43m,\u001b[49m\u001b[43m \u001b[49m\u001b[43mdevice\u001b[49m\u001b[43m,\u001b[49m\u001b[43m \u001b[49m\u001b[43mtrain_dl\u001b[49m\u001b[43m,\u001b[49m\u001b[43m \u001b[49m\u001b[43mtest_dl\u001b[49m\u001b[43m)\u001b[49m\n",
            "Cell \u001b[0;32mIn[40], line 17\u001b[0m, in \u001b[0;36mtrain_and_validate\u001b[0;34m(epochs, model, loss, optimizer, device, train_dataloader, val_dataloader, save_every, naming)\u001b[0m\n\u001b[1;32m     14\u001b[0m best_acc \u001b[38;5;241m=\u001b[39m \u001b[38;5;241m-\u001b[39m\u001b[38;5;241m1\u001b[39m\n\u001b[1;32m     15\u001b[0m \u001b[38;5;28;01mfor\u001b[39;00m e \u001b[38;5;129;01min\u001b[39;00m \u001b[38;5;28mrange\u001b[39m(epochs):\n\u001b[0;32m---> 17\u001b[0m     train_loss \u001b[38;5;241m=\u001b[39m \u001b[43mtrain\u001b[49m\u001b[43m(\u001b[49m\u001b[43mmodel\u001b[49m\u001b[43m,\u001b[49m\u001b[43m \u001b[49m\u001b[43mloss\u001b[49m\u001b[43m,\u001b[49m\u001b[43m \u001b[49m\u001b[43moptimizer\u001b[49m\u001b[43m,\u001b[49m\u001b[43m \u001b[49m\u001b[43mdevice\u001b[49m\u001b[43m,\u001b[49m\u001b[43m \u001b[49m\u001b[43mtrain_dataloader\u001b[49m\u001b[43m)\u001b[49m\n\u001b[1;32m     18\u001b[0m     val_preds, val_loss \u001b[38;5;241m=\u001b[39m validate(model, loss, device, val_dataloader)\n\u001b[1;32m     20\u001b[0m     val_targets \u001b[38;5;241m=\u001b[39m torch\u001b[38;5;241m.\u001b[39mcat([y\u001b[38;5;241m.\u001b[39mto(device) \u001b[38;5;28;01mfor\u001b[39;00m _, y \u001b[38;5;129;01min\u001b[39;00m val_dataloader])\n",
            "Cell \u001b[0;32mIn[37], line 6\u001b[0m, in \u001b[0;36mtrain\u001b[0;34m(model, loss, optimizer, device, train_dataloader)\u001b[0m\n\u001b[1;32m      3\u001b[0m model\u001b[38;5;241m.\u001b[39mtrain()\n\u001b[1;32m      4\u001b[0m train_loss \u001b[38;5;241m=\u001b[39m \u001b[38;5;241m0\u001b[39m\n\u001b[0;32m----> 6\u001b[0m \u001b[38;5;28;01mfor\u001b[39;00m batch \u001b[38;5;129;01min\u001b[39;00m tqdm(train_dataloader):\n\u001b[1;32m      7\u001b[0m   loss_step \u001b[38;5;241m=\u001b[39m train_step(batch, model, loss, optimizer, device)\n\u001b[1;32m      8\u001b[0m   train_loss \u001b[38;5;241m+\u001b[39m\u001b[38;5;241m=\u001b[39m loss_step \u001b[38;5;241m/\u001b[39m \u001b[38;5;28mlen\u001b[39m(train_dataloader)\n",
            "File \u001b[0;32m~/Homeworks/AI/.venv/lib/python3.10/site-packages/tqdm/std.py:1181\u001b[0m, in \u001b[0;36mtqdm.__iter__\u001b[0;34m(self)\u001b[0m\n\u001b[1;32m   1178\u001b[0m time \u001b[38;5;241m=\u001b[39m \u001b[38;5;28mself\u001b[39m\u001b[38;5;241m.\u001b[39m_time\n\u001b[1;32m   1180\u001b[0m \u001b[38;5;28;01mtry\u001b[39;00m:\n\u001b[0;32m-> 1181\u001b[0m     \u001b[38;5;28;01mfor\u001b[39;00m obj \u001b[38;5;129;01min\u001b[39;00m iterable:\n\u001b[1;32m   1182\u001b[0m         \u001b[38;5;28;01myield\u001b[39;00m obj\n\u001b[1;32m   1183\u001b[0m         \u001b[38;5;66;03m# Update and possibly print the progressbar.\u001b[39;00m\n\u001b[1;32m   1184\u001b[0m         \u001b[38;5;66;03m# Note: does not call self.update(1) for speed optimisation.\u001b[39;00m\n",
            "File \u001b[0;32m~/Homeworks/AI/.venv/lib/python3.10/site-packages/torch/utils/data/dataloader.py:708\u001b[0m, in \u001b[0;36m_BaseDataLoaderIter.__next__\u001b[0;34m(self)\u001b[0m\n\u001b[1;32m    705\u001b[0m \u001b[38;5;28;01mif\u001b[39;00m \u001b[38;5;28mself\u001b[39m\u001b[38;5;241m.\u001b[39m_sampler_iter \u001b[38;5;129;01mis\u001b[39;00m \u001b[38;5;28;01mNone\u001b[39;00m:\n\u001b[1;32m    706\u001b[0m     \u001b[38;5;66;03m# TODO(https://github.com/pytorch/pytorch/issues/76750)\u001b[39;00m\n\u001b[1;32m    707\u001b[0m     \u001b[38;5;28mself\u001b[39m\u001b[38;5;241m.\u001b[39m_reset()  \u001b[38;5;66;03m# type: ignore[call-arg]\u001b[39;00m\n\u001b[0;32m--> 708\u001b[0m data \u001b[38;5;241m=\u001b[39m \u001b[38;5;28;43mself\u001b[39;49m\u001b[38;5;241;43m.\u001b[39;49m\u001b[43m_next_data\u001b[49m\u001b[43m(\u001b[49m\u001b[43m)\u001b[49m\n\u001b[1;32m    709\u001b[0m \u001b[38;5;28mself\u001b[39m\u001b[38;5;241m.\u001b[39m_num_yielded \u001b[38;5;241m+\u001b[39m\u001b[38;5;241m=\u001b[39m \u001b[38;5;241m1\u001b[39m\n\u001b[1;32m    710\u001b[0m \u001b[38;5;28;01mif\u001b[39;00m (\n\u001b[1;32m    711\u001b[0m     \u001b[38;5;28mself\u001b[39m\u001b[38;5;241m.\u001b[39m_dataset_kind \u001b[38;5;241m==\u001b[39m _DatasetKind\u001b[38;5;241m.\u001b[39mIterable\n\u001b[1;32m    712\u001b[0m     \u001b[38;5;129;01mand\u001b[39;00m \u001b[38;5;28mself\u001b[39m\u001b[38;5;241m.\u001b[39m_IterableDataset_len_called \u001b[38;5;129;01mis\u001b[39;00m \u001b[38;5;129;01mnot\u001b[39;00m \u001b[38;5;28;01mNone\u001b[39;00m\n\u001b[1;32m    713\u001b[0m     \u001b[38;5;129;01mand\u001b[39;00m \u001b[38;5;28mself\u001b[39m\u001b[38;5;241m.\u001b[39m_num_yielded \u001b[38;5;241m>\u001b[39m \u001b[38;5;28mself\u001b[39m\u001b[38;5;241m.\u001b[39m_IterableDataset_len_called\n\u001b[1;32m    714\u001b[0m ):\n",
            "File \u001b[0;32m~/Homeworks/AI/.venv/lib/python3.10/site-packages/torch/utils/data/dataloader.py:1480\u001b[0m, in \u001b[0;36m_MultiProcessingDataLoaderIter._next_data\u001b[0;34m(self)\u001b[0m\n\u001b[1;32m   1478\u001b[0m \u001b[38;5;28;01mdel\u001b[39;00m \u001b[38;5;28mself\u001b[39m\u001b[38;5;241m.\u001b[39m_task_info[idx]\n\u001b[1;32m   1479\u001b[0m \u001b[38;5;28mself\u001b[39m\u001b[38;5;241m.\u001b[39m_rcvd_idx \u001b[38;5;241m+\u001b[39m\u001b[38;5;241m=\u001b[39m \u001b[38;5;241m1\u001b[39m\n\u001b[0;32m-> 1480\u001b[0m \u001b[38;5;28;01mreturn\u001b[39;00m \u001b[38;5;28;43mself\u001b[39;49m\u001b[38;5;241;43m.\u001b[39;49m\u001b[43m_process_data\u001b[49m\u001b[43m(\u001b[49m\u001b[43mdata\u001b[49m\u001b[43m)\u001b[49m\n",
            "File \u001b[0;32m~/Homeworks/AI/.venv/lib/python3.10/site-packages/torch/utils/data/dataloader.py:1505\u001b[0m, in \u001b[0;36m_MultiProcessingDataLoaderIter._process_data\u001b[0;34m(self, data)\u001b[0m\n\u001b[1;32m   1503\u001b[0m \u001b[38;5;28mself\u001b[39m\u001b[38;5;241m.\u001b[39m_try_put_index()\n\u001b[1;32m   1504\u001b[0m \u001b[38;5;28;01mif\u001b[39;00m \u001b[38;5;28misinstance\u001b[39m(data, ExceptionWrapper):\n\u001b[0;32m-> 1505\u001b[0m     \u001b[43mdata\u001b[49m\u001b[38;5;241;43m.\u001b[39;49m\u001b[43mreraise\u001b[49m\u001b[43m(\u001b[49m\u001b[43m)\u001b[49m\n\u001b[1;32m   1506\u001b[0m \u001b[38;5;28;01mreturn\u001b[39;00m data\n",
            "File \u001b[0;32m~/Homeworks/AI/.venv/lib/python3.10/site-packages/torch/_utils.py:733\u001b[0m, in \u001b[0;36mExceptionWrapper.reraise\u001b[0;34m(self)\u001b[0m\n\u001b[1;32m    729\u001b[0m \u001b[38;5;28;01mexcept\u001b[39;00m \u001b[38;5;167;01mTypeError\u001b[39;00m:\n\u001b[1;32m    730\u001b[0m     \u001b[38;5;66;03m# If the exception takes multiple arguments, don't try to\u001b[39;00m\n\u001b[1;32m    731\u001b[0m     \u001b[38;5;66;03m# instantiate since we don't know how to\u001b[39;00m\n\u001b[1;32m    732\u001b[0m     \u001b[38;5;28;01mraise\u001b[39;00m \u001b[38;5;167;01mRuntimeError\u001b[39;00m(msg) \u001b[38;5;28;01mfrom\u001b[39;00m\u001b[38;5;250m \u001b[39m\u001b[38;5;28;01mNone\u001b[39;00m\n\u001b[0;32m--> 733\u001b[0m \u001b[38;5;28;01mraise\u001b[39;00m exception\n",
            "\u001b[0;31mRuntimeError\u001b[0m: Caught RuntimeError in DataLoader worker process 0.\nOriginal Traceback (most recent call last):\n  File \"/home/rlohaw/Homeworks/AI/.venv/lib/python3.10/site-packages/torch/utils/data/_utils/worker.py\", line 349, in _worker_loop\n    data = fetcher.fetch(index)  # type: ignore[possibly-undefined]\n  File \"/home/rlohaw/Homeworks/AI/.venv/lib/python3.10/site-packages/torch/utils/data/_utils/fetch.py\", line 52, in fetch\n    data = [self.dataset[idx] for idx in possibly_batched_index]\n  File \"/home/rlohaw/Homeworks/AI/.venv/lib/python3.10/site-packages/torch/utils/data/_utils/fetch.py\", line 52, in <listcomp>\n    data = [self.dataset[idx] for idx in possibly_batched_index]\n  File \"/tmp/ipykernel_150254/2139042691.py\", line 12, in __getitem__\n    return self.X[idx].to(self.device), self.y[idx].to(self.device)\n  File \"/home/rlohaw/Homeworks/AI/.venv/lib/python3.10/site-packages/torch/cuda/__init__.py\", line 305, in _lazy_init\n    raise RuntimeError(\nRuntimeError: Cannot re-initialize CUDA in forked subprocess. To use CUDA with multiprocessing, you must use the 'spawn' start method\n"
          ]
        }
      ],
      "source": [
        "# Запусти\n",
        "train_and_validate(epochs, model, loss, optimizer, device, train_dl, test_dl)"
      ]
    },
    {
      "cell_type": "markdown",
      "metadata": {
        "id": "wbwyPd_AH4qh"
      },
      "source": [
        "> **Важно.** Не забудь скачать веса лучшей модели!"
      ]
    },
    {
      "cell_type": "markdown",
      "metadata": {
        "id": "fKA6VD9IJhRl"
      },
      "source": [
        "Какие результаты у тебя получились? Является ли лучшая модель по loss также лучшей и по метрике?"
      ]
    },
    {
      "cell_type": "markdown",
      "metadata": {
        "id": "HsH3HM5CISMB"
      },
      "source": [
        "## Задача 2. Нормализация данных [4 балла]\n",
        "\n",
        "Мы уже нормализовали данные, чтобы улучшить качество решения линейных моделей. Для нейросетей это также хорошая практика.\n",
        "\n",
        "В этой задаче тебе предстоит сделать нормализацию выходных данных, а именно:\n",
        "1. Модифицировать класс датасета так, чтобы он нормализовал данные для обучения и выводил статистики train-подвыборки. **[2 балла]**\n",
        "2. Инициализировать класс с полученными статистиками для валидационной подвыборки. **[1 балл]**\n",
        "3. Обучить нейросеть и вывести все логи. **[0,5 балла]**\n",
        "4. Описать, что получилось. Стало ли лучше? **[0,5 балла]**\n",
        "\n",
        "Нормализация — это стандартизация наших данных. То есть мы вычитаем из нашей выборки среднее переменных по всей выборке и делим результат на стандартное отклонение выборки для каждой переменной:\n",
        "\n",
        "$$X_{norm} = \\frac{X - E(X)}{\\sqrt{V(X)}}.$$\n",
        "\n",
        "Также важно учесть, что, хоть у нас и векторы, мы работаем с картинками. Их нормализуют по каналам. Всего их обычно 3 (RGB — Red, Green, Blue). Но в нашем простом датасете канал всего один.\n",
        "\n",
        "То есть нужно получить всего одно число для среднего и стандартного отклонений, а не 784, если бы нормализовали данные как табличные."
      ]
    },
    {
      "cell_type": "markdown",
      "metadata": {
        "id": "pf5R-E1qTOvg"
      },
      "source": [
        "### Твоё решение задания 2"
      ]
    },
    {
      "cell_type": "code",
      "execution_count": null,
      "metadata": {
        "id": "vwD_AezRaOM_"
      },
      "outputs": [],
      "source": [
        "class DatasetMNIST(Dataset):\n",
        "\n",
        "    def __init__(\n",
        "        self, X, y, mean=None, std=None, device=\"cuda\"\n",
        "    ):  # Теперь можно передавать статистики в датасет\n",
        "\n",
        "        # Тут всё как было\n",
        "        self.X = X.flatten(1) / 255\n",
        "        self.y = y\n",
        "        self.device = device # кажется кто-то забыл при создании задачи отправить датасетик на гпу)))))))\n",
        "\n",
        "        # Если у нас нет среднего или стандартного отклонения\n",
        "        if not mean or not std:\n",
        "            mean = self.X.mean()  # Посчитай среднее\n",
        "            std = self.X.std()  # Посчитай стандартное отклонение\n",
        "            print(\n",
        "                mean, std\n",
        "            )  # print, потому что init в Dataset не должен ничего возвращать по правилам PyTorch\n",
        "\n",
        "        self.X = (self.X - mean) / std\n",
        "\n",
        "    def __len__(self):\n",
        "        return len(self.y)\n",
        "\n",
        "    def __getitem__(self, idx):\n",
        "        return self.X[idx].to(device), self.y[idx].to(device)"
      ]
    },
    {
      "cell_type": "code",
      "execution_count": null,
      "metadata": {
        "colab": {
          "base_uri": "https://localhost:8080/"
        },
        "id": "Cv8YoELEaOM_",
        "outputId": "c355dde1-dd91-4c47-d836-6ef56a77290c"
      },
      "outputs": [
        {
          "name": "stdout",
          "output_type": "stream",
          "text": [
            "tensor(0.1307) tensor(0.3081)\n"
          ]
        }
      ],
      "source": [
        "# Надо пересоздать датасеты и даталоадеры\n",
        "# Определим train-датасет\n",
        "train_ds = DatasetMNIST(X_train, y_train)\n",
        "train_mean = train_ds.X.mean()\n",
        "train_std = train_ds.X.std()"
      ]
    },
    {
      "cell_type": "code",
      "execution_count": null,
      "metadata": {
        "id": "yscK7u_raOM_"
      },
      "outputs": [],
      "source": [
        "# Передай полученные статистики в наш валидационный датасет\n",
        "test_ds = DatasetMNIST(X_test, y_test, train_mean, train_std)"
      ]
    },
    {
      "cell_type": "code",
      "execution_count": null,
      "metadata": {
        "id": "Zf_vGBK_aOM_"
      },
      "outputs": [],
      "source": [
        "# Определим даталоадеры\n",
        "train_dl = DataLoader(\n",
        "    train_ds, # Наш датасет\n",
        "    batch_size=64, # Размер батча. Меньше 32, согласно многим исследованиям, ставить не рекомендуется из-за потерь в качетсве\n",
        "    shuffle=True, # Указываем, перемешивать ли данные перед каждой эпохой (проходом по данным). Для train-подвыборки всегда ставим True, кроме единичных исключений\n",
        "    drop_last=True, # Если наш последний батч будет неполным, то не обучаемся на нём\n",
        "    num_workers=2, # Показывает, сколько процессов будет собирать данные в батч. Обычно выбирают по числу ядер\n",
        "    persistent_workers=True # Указываем, чтобы не создавать каждый раз новый процесс при обращении к DataLoader. Полезно для небольшого ускорения исполнения\n",
        ")\n",
        "\n",
        "test_dl = DataLoader(\n",
        "    test_ds, # Тестовый датасет\n",
        "    batch_size=64*4, # Для скорости можно побольше поставить, чем на train. Так как только получаем предсказания, а не обучаемся, нужно меньше ресурсов, а значит, в GPU поместится батч большего размера\n",
        "    shuffle=False, # Не будем перемешивать\n",
        "    drop_last=False, # И исключать неполный батч не будем, потому что нам нужны предсказания для него\n",
        "    num_workers=2,\n",
        "    persistent_workers=True\n",
        ")"
      ]
    },
    {
      "cell_type": "code",
      "execution_count": null,
      "metadata": {
        "id": "0XSzhT7CaONA"
      },
      "outputs": [],
      "source": [
        "# Инициализируем модель\n",
        "model = FCMNIST()\n",
        "optimizer = torch.optim.SGD(model.parameters(), lr=1e-1)\n",
        "loss = nn.CrossEntropyLoss() # Кросс-энтропия, самая популярная функция потерь для решения задачи классификации. Разбиралась на лекциях\n",
        "epochs = 10\n",
        "device = 'cuda' if torch.cuda.is_available() else 'cpu'"
      ]
    },
    {
      "cell_type": "code",
      "execution_count": null,
      "metadata": {
        "id": "kUyel7_VaONA"
      },
      "outputs": [
        {
          "name": "stderr",
          "output_type": "stream",
          "text": [
            "100%|██████████| 937/937 [00:09<00:00, 102.80it/s]\n",
            "100%|██████████| 40/40 [00:00<00:00, 89.57it/s]\n"
          ]
        },
        {
          "name": "stdout",
          "output_type": "stream",
          "text": [
            "Эпоха: 0 | Train Loss 0.48496546616763764 | Val Loss 0.7366105735301971 | Val_acc 0.9354\n"
          ]
        },
        {
          "name": "stderr",
          "output_type": "stream",
          "text": [
            "100%|██████████| 937/937 [00:09<00:00, 103.39it/s]\n",
            "100%|██████████| 40/40 [00:00<00:00, 77.41it/s]\n"
          ]
        },
        {
          "name": "stdout",
          "output_type": "stream",
          "text": [
            "Эпоха: 1 | Train Loss 0.11145784535118264 | Val Loss 0.5930806756019593 | Val_acc 0.9274\n"
          ]
        },
        {
          "name": "stderr",
          "output_type": "stream",
          "text": [
            "100%|██████████| 937/937 [00:10<00:00, 89.74it/s] \n",
            "100%|██████████| 40/40 [00:00<00:00, 94.07it/s]\n"
          ]
        },
        {
          "name": "stdout",
          "output_type": "stream",
          "text": [
            "Эпоха: 2 | Train Loss 0.07123376350311149 | Val Loss 0.4682185888290403 | Val_acc 0.9492\n"
          ]
        },
        {
          "name": "stderr",
          "output_type": "stream",
          "text": [
            "100%|██████████| 937/937 [00:08<00:00, 104.21it/s]\n",
            "100%|██████████| 40/40 [00:00<00:00, 99.71it/s]\n"
          ]
        },
        {
          "name": "stdout",
          "output_type": "stream",
          "text": [
            "Эпоха: 3 | Train Loss 0.051096779218399745 | Val Loss 0.40422735363245005 | Val_acc 0.9496\n"
          ]
        },
        {
          "name": "stderr",
          "output_type": "stream",
          "text": [
            "100%|██████████| 937/937 [00:10<00:00, 90.38it/s] \n",
            "100%|██████████| 40/40 [00:00<00:00, 101.06it/s]\n"
          ]
        },
        {
          "name": "stdout",
          "output_type": "stream",
          "text": [
            "Эпоха: 4 | Train Loss 0.03770991066682449 | Val Loss 0.38737479858100426 | Val_acc 0.9372\n"
          ]
        },
        {
          "name": "stderr",
          "output_type": "stream",
          "text": [
            "100%|██████████| 937/937 [00:08<00:00, 110.33it/s]\n",
            "100%|██████████| 40/40 [00:00<00:00, 108.69it/s]\n"
          ]
        },
        {
          "name": "stdout",
          "output_type": "stream",
          "text": [
            "Эпоха: 5 | Train Loss 0.027821664649936264 | Val Loss 0.30714962594211087 | Val_acc 0.9507\n"
          ]
        },
        {
          "name": "stderr",
          "output_type": "stream",
          "text": [
            "100%|██████████| 937/937 [00:08<00:00, 107.27it/s]\n",
            "100%|██████████| 40/40 [00:00<00:00, 99.95it/s] \n"
          ]
        },
        {
          "name": "stdout",
          "output_type": "stream",
          "text": [
            "Эпоха: 6 | Train Loss 0.02127636895495954 | Val Loss 0.25167201533913613 | Val_acc 0.9531\n"
          ]
        },
        {
          "name": "stderr",
          "output_type": "stream",
          "text": [
            "100%|██████████| 937/937 [00:09<00:00, 102.63it/s]\n",
            "100%|██████████| 40/40 [00:00<00:00, 101.60it/s]\n"
          ]
        },
        {
          "name": "stdout",
          "output_type": "stream",
          "text": [
            "Эпоха: 7 | Train Loss 0.017989676953672953 | Val Loss 0.27109190318733445 | Val_acc 0.9439\n"
          ]
        },
        {
          "name": "stderr",
          "output_type": "stream",
          "text": [
            "100%|██████████| 937/937 [00:09<00:00, 102.30it/s]\n",
            "100%|██████████| 40/40 [00:00<00:00, 106.97it/s]\n"
          ]
        },
        {
          "name": "stdout",
          "output_type": "stream",
          "text": [
            "Эпоха: 8 | Train Loss 0.012826820606942426 | Val Loss 0.21116707855835565 | Val_acc 0.9512\n"
          ]
        },
        {
          "name": "stderr",
          "output_type": "stream",
          "text": [
            "100%|██████████| 937/937 [00:09<00:00, 100.64it/s]\n",
            "100%|██████████| 40/40 [00:00<00:00, 62.66it/s]\n"
          ]
        },
        {
          "name": "stdout",
          "output_type": "stream",
          "text": [
            "Эпоха: 9 | Train Loss 0.009580554261098646 | Val Loss 0.16368222180753947 | Val_acc 0.9661\n"
          ]
        }
      ],
      "source": [
        "# Запусти обучение\n",
        "train_and_validate(epochs, model, loss, optimizer, device, train_dl, test_dl, naming='_norm') # Здесь еще указали дополнительный нейминг модели, чтобы отличать веса"
      ]
    },
    {
      "cell_type": "markdown",
      "metadata": {
        "id": "jfPNpNKgaONA"
      },
      "source": [
        "> **Важно.** Не забудь сохранить веса лучшей модели на валидации!"
      ]
    },
    {
      "cell_type": "markdown",
      "metadata": {
        "id": "fgQ5-RlBaONA"
      },
      "source": [
        "Удалось ли улучшить качество? Должно получиться где-то +0,1–0,3 п. п. к решению без нормализации. Если не вышло, не значит, что ты сделал что-то неправильно. Датасет настолько простой, что задача хорошо решается и без нормализации данных."
      ]
    },
    {
      "cell_type": "markdown",
      "metadata": {
        "id": "pxBnNrsHcM_A"
      },
      "source": [
        "## Задача 3. BatchNorm [3 балла]\n",
        "\n",
        "Мы нормируем только входные данные. Но после каждого блока нейросети на выходе получаем новое представление наших данных. И нет никаких гарантий, что оно нормализовано, поэтому в нейросетях часто используют блок [BatchNorm](https://pytorch.org/docs/stable/generated/torch.nn.BatchNorm1d.html).\n",
        "\n",
        "Он нормализует наши данные, как мы это уже сделали вручную для входа. Зачем BatchNorm тогда нужен? Мы производим обучение по батчам. Удобно считать необходимые для нормализации среднее арифметическое и отклонение не по всей выборке, а у каждого батча, постепенно накапливая эти значения. Именно этим занимается BatchNorm!\n",
        "\n",
        "Также у этого слоя есть параметры: коэффициент умножения и сдвиг. Это нужно для того, чтобы слой мог при необходимости «отменить» или модифицировать эффект нормализации, унмножив или добавив определённое число.\n",
        "\n",
        "В этой задаче тебе предстоит поработать над архитектурой нейросети, добавив BatchNorm между слоями.\n",
        "\n",
        "BatchNorm может быть разным, для этой задачи используй [BatchNorm1d](https://www.google.com/url?q=https%3A%2F%2Fpytorch.org%2Fdocs%2Fstable%2Fgenerated%2Ftorch.nn.BatchNorm1d.html).\n",
        "\n",
        "Тебе нужно:\n",
        "1. Модифицировать нейросеть, добавив BatchNorm. **[1 балл]**\n",
        "\n",
        "Слой BatchNorm можно ставить как до, так и после функции активации. Можешь попробовать разные варианты и посмотреть, какой будет лучше!\n",
        "\n",
        "Этот слой принимает на вход один аргумент — размер входных данных. Поэтому, если на вход BatchNorm подаётся вектор длиной 100, надо инициализировать её через `nn.BatchNorm1d(100)`.\n",
        "2. Обучить все и сохранить лучшую модель. **[1 балла]**\n",
        "3. Описать, что получилось. **[1 балла]**"
      ]
    },
    {
      "cell_type": "markdown",
      "metadata": {
        "id": "UgkqfnZYfDZn"
      },
      "source": [
        "### Твоё решение задания 3"
      ]
    },
    {
      "cell_type": "code",
      "execution_count": null,
      "metadata": {
        "id": "SHnGZ90jfwRF"
      },
      "outputs": [],
      "source": [
        "class NormFCMNIST(nn.Module): # Norm добавлено в название, чтобы различать классы\n",
        "\n",
        "  def __init__(self):\n",
        "    super().__init__() # Не забываем super init сделать, без этого ничего работать не будет\n",
        "    # Не надо вставлять BatchNorm до и после активации. Выбери одно расположение\n",
        "    # Линейный слой —> (?Batchnorm) —> ReLU —> (?Batchnorm) —> Линейный слой —> и так далее\n",
        "    self.net = nn.Sequential(\n",
        "      \n",
        "        nn.Linear(784, 392),\n",
        "        nn.BatchNorm1d(392),\n",
        "        nn.ReLU(),\n",
        "        \n",
        "        nn.Linear(392, 191),\n",
        "        nn.BatchNorm1d(191),\n",
        "        nn.ReLU(),\n",
        "\n",
        "        nn.Linear(191, 80),\n",
        "        nn.BatchNorm1d(80),\n",
        "        nn.ReLU(),\n",
        "\n",
        "        nn.Linear(80, 40),\n",
        "        nn.BatchNorm1d(40),\n",
        "        nn.ReLU(),\n",
        "\n",
        "        nn.Linear(40, 10)\n",
        "    )\n",
        "\n",
        "  def forward(self, X):\n",
        "    return self.net(X)"
      ]
    },
    {
      "cell_type": "markdown",
      "metadata": {
        "id": "VZ6bVz3XAr3K"
      },
      "source": [
        "Объясни, куда ты добавил BatchNorm и почему?"
      ]
    },
    {
      "cell_type": "code",
      "execution_count": null,
      "metadata": {
        "id": "06LjvNERhPd_"
      },
      "outputs": [],
      "source": [
        "# Инициализируем модель\n",
        "model = NormFCMNIST()\n",
        "optimizer = torch.optim.SGD(model.parameters(), lr=1e-1)\n",
        "loss = nn.CrossEntropyLoss() # Кросс-энтропия, самая популярная функция потерь для решения задачи классификации. Разбиралась на лекциях\n",
        "epochs = 30\n",
        "device = 'cuda' if torch.cuda.is_available() else 'cpu'"
      ]
    },
    {
      "cell_type": "code",
      "execution_count": null,
      "metadata": {
        "id": "a3UIFcHChRmW"
      },
      "outputs": [
        {
          "name": "stderr",
          "output_type": "stream",
          "text": [
            "100%|██████████| 937/937 [00:11<00:00, 82.65it/s]\n",
            "100%|██████████| 40/40 [00:00<00:00, 94.61it/s]\n"
          ]
        },
        {
          "name": "stdout",
          "output_type": "stream",
          "text": [
            "Эпоха: 0 | Train Loss 0.2275548795428976 | Val Loss 1.9261489897966384 | Val_acc 0.3941\n"
          ]
        },
        {
          "name": "stderr",
          "output_type": "stream",
          "text": [
            "100%|██████████| 937/937 [00:11<00:00, 84.37it/s]\n",
            "100%|██████████| 40/40 [00:00<00:00, 94.54it/s]\n"
          ]
        },
        {
          "name": "stdout",
          "output_type": "stream",
          "text": [
            "Эпоха: 1 | Train Loss 0.0885946120214007 | Val Loss 2.949818134307861 | Val_acc 0.2565\n"
          ]
        },
        {
          "name": "stderr",
          "output_type": "stream",
          "text": [
            "100%|██████████| 937/937 [00:10<00:00, 85.70it/s]\n",
            "100%|██████████| 40/40 [00:00<00:00, 100.19it/s]\n"
          ]
        },
        {
          "name": "stdout",
          "output_type": "stream",
          "text": [
            "Эпоха: 2 | Train Loss 0.06013947330254235 | Val Loss 2.690827709436417 | Val_acc 0.3206\n"
          ]
        },
        {
          "name": "stderr",
          "output_type": "stream",
          "text": [
            "100%|██████████| 937/937 [00:10<00:00, 93.45it/s] \n",
            "100%|██████████| 40/40 [00:00<00:00, 95.39it/s]\n"
          ]
        },
        {
          "name": "stdout",
          "output_type": "stream",
          "text": [
            "Эпоха: 3 | Train Loss 0.04805464612314106 | Val Loss 2.351253497600556 | Val_acc 0.37\n"
          ]
        },
        {
          "name": "stderr",
          "output_type": "stream",
          "text": [
            "100%|██████████| 937/937 [00:10<00:00, 90.03it/s]\n",
            "100%|██████████| 40/40 [00:00<00:00, 100.89it/s]\n"
          ]
        },
        {
          "name": "stdout",
          "output_type": "stream",
          "text": [
            "Эпоха: 4 | Train Loss 0.037752922454013 | Val Loss 3.8424354910850536 | Val_acc 0.2183\n"
          ]
        },
        {
          "name": "stderr",
          "output_type": "stream",
          "text": [
            "100%|██████████| 937/937 [00:09<00:00, 97.58it/s] \n",
            "100%|██████████| 40/40 [00:00<00:00, 110.17it/s]\n"
          ]
        },
        {
          "name": "stdout",
          "output_type": "stream",
          "text": [
            "Эпоха: 5 | Train Loss 0.02975545449659731 | Val Loss 3.642181420326233 | Val_acc 0.2275\n"
          ]
        },
        {
          "name": "stderr",
          "output_type": "stream",
          "text": [
            "100%|██████████| 937/937 [00:08<00:00, 105.17it/s]\n",
            "100%|██████████| 40/40 [00:00<00:00, 107.12it/s]\n"
          ]
        },
        {
          "name": "stdout",
          "output_type": "stream",
          "text": [
            "Эпоха: 6 | Train Loss 0.02424230492544481 | Val Loss 3.627139896154404 | Val_acc 0.2099\n"
          ]
        },
        {
          "name": "stderr",
          "output_type": "stream",
          "text": [
            "100%|██████████| 937/937 [00:09<00:00, 100.66it/s]\n",
            "100%|██████████| 40/40 [00:00<00:00, 116.19it/s]\n"
          ]
        },
        {
          "name": "stdout",
          "output_type": "stream",
          "text": [
            "Эпоха: 7 | Train Loss 0.018065686335506637 | Val Loss 3.971243661642075 | Val_acc 0.2253\n"
          ]
        },
        {
          "name": "stderr",
          "output_type": "stream",
          "text": [
            "100%|██████████| 937/937 [00:08<00:00, 109.15it/s]\n",
            "100%|██████████| 40/40 [00:00<00:00, 109.76it/s]\n"
          ]
        },
        {
          "name": "stdout",
          "output_type": "stream",
          "text": [
            "Эпоха: 8 | Train Loss 0.018391288476814698 | Val Loss 4.001035660505294 | Val_acc 0.2293\n"
          ]
        },
        {
          "name": "stderr",
          "output_type": "stream",
          "text": [
            "100%|██████████| 937/937 [00:09<00:00, 102.10it/s]\n",
            "100%|██████████| 40/40 [00:00<00:00, 90.43it/s]\n"
          ]
        },
        {
          "name": "stdout",
          "output_type": "stream",
          "text": [
            "Эпоха: 9 | Train Loss 0.017078095897797383 | Val Loss 4.221313297748566 | Val_acc 0.1996\n"
          ]
        },
        {
          "name": "stderr",
          "output_type": "stream",
          "text": [
            "100%|██████████| 937/937 [00:09<00:00, 103.95it/s]\n",
            "100%|██████████| 40/40 [00:00<00:00, 112.16it/s]\n"
          ]
        },
        {
          "name": "stdout",
          "output_type": "stream",
          "text": [
            "Эпоха: 10 | Train Loss 0.012505011228271632 | Val Loss 3.844978004693985 | Val_acc 0.2535\n"
          ]
        },
        {
          "name": "stderr",
          "output_type": "stream",
          "text": [
            "100%|██████████| 937/937 [00:08<00:00, 108.92it/s]\n",
            "100%|██████████| 40/40 [00:00<00:00, 108.39it/s]\n"
          ]
        },
        {
          "name": "stdout",
          "output_type": "stream",
          "text": [
            "Эпоха: 11 | Train Loss 0.012471395441834898 | Val Loss 3.4020413577556603 | Val_acc 0.2436\n"
          ]
        },
        {
          "name": "stderr",
          "output_type": "stream",
          "text": [
            "100%|██████████| 937/937 [00:10<00:00, 90.07it/s] \n",
            "100%|██████████| 40/40 [00:00<00:00, 69.63it/s]\n"
          ]
        },
        {
          "name": "stdout",
          "output_type": "stream",
          "text": [
            "Эпоха: 12 | Train Loss 0.00993978206041937 | Val Loss 4.554570996761322 | Val_acc 0.2026\n"
          ]
        },
        {
          "name": "stderr",
          "output_type": "stream",
          "text": [
            "100%|██████████| 937/937 [00:09<00:00, 103.12it/s]\n",
            "100%|██████████| 40/40 [00:00<00:00, 112.52it/s]\n"
          ]
        },
        {
          "name": "stdout",
          "output_type": "stream",
          "text": [
            "Эпоха: 13 | Train Loss 0.009714104452488116 | Val Loss 4.131058943271638 | Val_acc 0.2068\n"
          ]
        },
        {
          "name": "stderr",
          "output_type": "stream",
          "text": [
            "100%|██████████| 937/937 [00:08<00:00, 114.79it/s]\n",
            "100%|██████████| 40/40 [00:00<00:00, 124.29it/s]\n"
          ]
        },
        {
          "name": "stdout",
          "output_type": "stream",
          "text": [
            "Эпоха: 14 | Train Loss 0.007572636908761396 | Val Loss 3.619066220521926 | Val_acc 0.2694\n"
          ]
        },
        {
          "name": "stderr",
          "output_type": "stream",
          "text": [
            "100%|██████████| 937/937 [00:08<00:00, 113.82it/s]\n",
            "100%|██████████| 40/40 [00:00<00:00, 120.06it/s]\n"
          ]
        },
        {
          "name": "stdout",
          "output_type": "stream",
          "text": [
            "Эпоха: 15 | Train Loss 0.006653801209141173 | Val Loss 3.475290668010712 | Val_acc 0.315\n"
          ]
        },
        {
          "name": "stderr",
          "output_type": "stream",
          "text": [
            "100%|██████████| 937/937 [00:08<00:00, 115.50it/s]\n",
            "100%|██████████| 40/40 [00:00<00:00, 116.89it/s]\n"
          ]
        },
        {
          "name": "stdout",
          "output_type": "stream",
          "text": [
            "Эпоха: 16 | Train Loss 0.0061010978863051575 | Val Loss 3.216357725858688 | Val_acc 0.3263\n"
          ]
        },
        {
          "name": "stderr",
          "output_type": "stream",
          "text": [
            "100%|██████████| 937/937 [00:08<00:00, 116.23it/s]\n",
            "100%|██████████| 40/40 [00:00<00:00, 112.12it/s]\n"
          ]
        },
        {
          "name": "stdout",
          "output_type": "stream",
          "text": [
            "Эпоха: 17 | Train Loss 0.0040972199694029885 | Val Loss 4.012658733129501 | Val_acc 0.263\n"
          ]
        },
        {
          "name": "stderr",
          "output_type": "stream",
          "text": [
            "100%|██████████| 937/937 [00:08<00:00, 114.59it/s]\n",
            "100%|██████████| 40/40 [00:00<00:00, 111.58it/s]\n"
          ]
        },
        {
          "name": "stdout",
          "output_type": "stream",
          "text": [
            "Эпоха: 18 | Train Loss 0.006855602311238475 | Val Loss 4.531598114967346 | Val_acc 0.2569\n"
          ]
        },
        {
          "name": "stderr",
          "output_type": "stream",
          "text": [
            "100%|██████████| 937/937 [00:08<00:00, 115.68it/s]\n",
            "100%|██████████| 40/40 [00:00<00:00, 114.00it/s]\n"
          ]
        },
        {
          "name": "stdout",
          "output_type": "stream",
          "text": [
            "Эпоха: 19 | Train Loss 0.00555629970558885 | Val Loss 3.532605224847794 | Val_acc 0.295\n"
          ]
        },
        {
          "name": "stderr",
          "output_type": "stream",
          "text": [
            "100%|██████████| 937/937 [00:08<00:00, 114.18it/s]\n",
            "100%|██████████| 40/40 [00:00<00:00, 114.72it/s]\n"
          ]
        },
        {
          "name": "stdout",
          "output_type": "stream",
          "text": [
            "Эпоха: 20 | Train Loss 0.004749061237236477 | Val Loss 4.414438903331757 | Val_acc 0.2271\n"
          ]
        },
        {
          "name": "stderr",
          "output_type": "stream",
          "text": [
            "100%|██████████| 937/937 [00:08<00:00, 114.05it/s]\n",
            "100%|██████████| 40/40 [00:00<00:00, 114.82it/s]\n"
          ]
        },
        {
          "name": "stdout",
          "output_type": "stream",
          "text": [
            "Эпоха: 21 | Train Loss 0.005263314917260715 | Val Loss 4.426158618927001 | Val_acc 0.233\n"
          ]
        },
        {
          "name": "stderr",
          "output_type": "stream",
          "text": [
            "100%|██████████| 937/937 [00:08<00:00, 115.70it/s]\n",
            "100%|██████████| 40/40 [00:00<00:00, 90.28it/s] \n"
          ]
        },
        {
          "name": "stdout",
          "output_type": "stream",
          "text": [
            "Эпоха: 22 | Train Loss 0.005302027041514972 | Val Loss 3.9272522091865536 | Val_acc 0.2707\n"
          ]
        },
        {
          "name": "stderr",
          "output_type": "stream",
          "text": [
            "100%|██████████| 937/937 [00:08<00:00, 114.76it/s]\n",
            "100%|██████████| 40/40 [00:00<00:00, 118.18it/s]\n"
          ]
        },
        {
          "name": "stdout",
          "output_type": "stream",
          "text": [
            "Эпоха: 23 | Train Loss 0.005201163741483337 | Val Loss 4.209619331359864 | Val_acc 0.2569\n"
          ]
        },
        {
          "name": "stderr",
          "output_type": "stream",
          "text": [
            "100%|██████████| 937/937 [00:08<00:00, 114.51it/s]\n",
            "100%|██████████| 40/40 [00:00<00:00, 110.63it/s]\n"
          ]
        },
        {
          "name": "stdout",
          "output_type": "stream",
          "text": [
            "Эпоха: 24 | Train Loss 0.003969863528833298 | Val Loss 4.1070887506008145 | Val_acc 0.2522\n"
          ]
        },
        {
          "name": "stderr",
          "output_type": "stream",
          "text": [
            "100%|██████████| 937/937 [00:08<00:00, 115.98it/s]\n",
            "100%|██████████| 40/40 [00:00<00:00, 113.39it/s]\n"
          ]
        },
        {
          "name": "stdout",
          "output_type": "stream",
          "text": [
            "Эпоха: 25 | Train Loss 0.003432478985747696 | Val Loss 4.030072814226151 | Val_acc 0.2577\n"
          ]
        },
        {
          "name": "stderr",
          "output_type": "stream",
          "text": [
            "100%|██████████| 937/937 [00:08<00:00, 115.06it/s]\n",
            "100%|██████████| 40/40 [00:00<00:00, 114.02it/s]\n"
          ]
        },
        {
          "name": "stdout",
          "output_type": "stream",
          "text": [
            "Эпоха: 26 | Train Loss 0.0029275875883655877 | Val Loss 3.611498814821243 | Val_acc 0.3027\n"
          ]
        },
        {
          "name": "stderr",
          "output_type": "stream",
          "text": [
            "100%|██████████| 937/937 [00:08<00:00, 116.37it/s]\n",
            "100%|██████████| 40/40 [00:00<00:00, 111.47it/s]\n"
          ]
        },
        {
          "name": "stdout",
          "output_type": "stream",
          "text": [
            "Эпоха: 27 | Train Loss 0.003129715304236078 | Val Loss 3.8403994858264925 | Val_acc 0.2694\n"
          ]
        },
        {
          "name": "stderr",
          "output_type": "stream",
          "text": [
            "100%|██████████| 937/937 [00:08<00:00, 116.10it/s]\n",
            "100%|██████████| 40/40 [00:00<00:00, 112.43it/s]\n"
          ]
        },
        {
          "name": "stdout",
          "output_type": "stream",
          "text": [
            "Эпоха: 28 | Train Loss 0.00340777502441982 | Val Loss 3.1732634782791136 | Val_acc 0.3346\n"
          ]
        },
        {
          "name": "stderr",
          "output_type": "stream",
          "text": [
            "100%|██████████| 937/937 [00:08<00:00, 116.70it/s]\n",
            "100%|██████████| 40/40 [00:00<00:00, 126.99it/s]\n"
          ]
        },
        {
          "name": "stdout",
          "output_type": "stream",
          "text": [
            "Эпоха: 29 | Train Loss 0.0021530247024353663 | Val Loss 3.4205375730991356 | Val_acc 0.304\n"
          ]
        }
      ],
      "source": [
        "# Запусти обучение\n",
        "train_and_validate(epochs, model, loss, optimizer, device, train_dl, test_dl, naming='_batchnorm') # Нейминг опять другой"
      ]
    },
    {
      "cell_type": "markdown",
      "metadata": {
        "id": "o6krdxaFhTUU"
      },
      "source": [
        ">**Важно.** Не забудь сохранить веса лучшей модели на валидации!"
      ]
    },
    {
      "cell_type": "markdown",
      "metadata": {
        "id": "-LuVvdA8hW5R"
      },
      "source": [
        "Получилось ли у тебя улучшить результат? Что можно сказать про стабильность `loss` на валидации в сравнении с прошлыми моделями?\n"
      ]
    },
    {
      "cell_type": "markdown",
      "metadata": {},
      "source": [
        "нет, слишком сильно нормализует"
      ]
    },
    {
      "cell_type": "markdown",
      "metadata": {
        "id": "yADOA0TKhkFN"
      },
      "source": [
        "## Задание 4. Добавление шедулера [2 бонусных балла]\n",
        "\n",
        "Шедулеры разбирались на неделе, посвящённой оптимизации. Так как нейросети решают оптимизационные задачи, то для них также применяются шедулеры.\n",
        "\n",
        "В этом задании нужно:\n",
        "1. Добавить шедулер в код обучения. **[1 бонусный балл]**\n",
        "2. Выбрать шедулер и обучить с ним модель. **[0,5 бонусного балла]**\n",
        "3. Описать полученные результаты. **[0,5 бонусного балла]**\n",
        "\n",
        "Когда можно менять lr шедулером?\n",
        "* На каждом шаге оптимизатора (в этой задаче сделай так).\n",
        "* На каждой эпохе.\n",
        "\n",
        "> **Примечание.** При решении задачи в реальной жизни стоит попробовать оба варианта. Трудно заранее сказать, что лучше сработает для отдельно взятой задачи."
      ]
    },
    {
      "cell_type": "markdown",
      "metadata": {
        "id": "HWFWeCNHnLer"
      },
      "source": [
        "### Твоё решение задания 4"
      ]
    },
    {
      "cell_type": "code",
      "execution_count": null,
      "metadata": {
        "id": "Pd1mVdS-p57a"
      },
      "outputs": [],
      "source": [
        "# Функция для одного шага обучения. Подумай, куда добавить шедулер\n",
        "def train_step(batch, model, loss, optimizer, device, scheduler=None):\n",
        "\n",
        "    X, y = batch\n",
        "    X = X.to(device)\n",
        "    y = y.to(device)\n",
        "\n",
        "    logits = model(X)\n",
        "    l = loss(logits, y)\n",
        "\n",
        "    l.backward()\n",
        "\n",
        "    optimizer.step()\n",
        "    if scheduler:\n",
        "        scheduler.step()\n",
        "    model.zero_grad()\n",
        "\n",
        "    return l.item()"
      ]
    },
    {
      "cell_type": "code",
      "execution_count": null,
      "metadata": {
        "id": "4hCZtCyRp-vj"
      },
      "outputs": [],
      "source": [
        "# Функция для обучения на эпохе. Тут уже аргумент scheduler прокидывается в train_step. То есть ничего тут писать не надо\n",
        "def train(model, loss, optimizer, device, train_dataloader, scheduler=None):\n",
        "    model.train()\n",
        "    train_loss = 0\n",
        "\n",
        "    for batch in tqdm(train_dataloader):\n",
        "      loss_step = train_step(batch, model, loss, optimizer, device, scheduler)\n",
        "      train_loss += loss_step / len(train_dataloader)\n",
        "    return train_loss"
      ]
    },
    {
      "cell_type": "code",
      "execution_count": null,
      "metadata": {
        "id": "PLooGKAmnIxN"
      },
      "outputs": [],
      "source": [
        "def train_and_validate(\n",
        "    epochs,\n",
        "    model,\n",
        "    loss,\n",
        "    optimizer,\n",
        "    device,\n",
        "    train_dataloader,\n",
        "    val_dataloader,\n",
        "    save_every=1,\n",
        "    naming=\"\",\n",
        "    scheduler = None\n",
        "):\n",
        "\n",
        "    model.to(device)\n",
        "    best_acc = -1\n",
        "    for e in range(epochs):\n",
        "\n",
        "        train_loss = train(model, loss, optimizer, device, train_dataloader, scheduler=scheduler)\n",
        "        val_preds, val_loss = validate(model, loss, device, val_dataloader)\n",
        "\n",
        "        val_targets = torch.cat([y.to(device) for _, y in val_dataloader])\n",
        "        valid_acc = (val_preds == val_targets.cpu()).numpy().mean()\n",
        "\n",
        "        print(\n",
        "            f\"Эпоха: {e} | Train Loss {train_loss} | Val Loss {val_loss} | Val_acc {valid_acc}\"\n",
        "        )  # Добавь в print полученное значение с соответствующей подписью \n",
        "        if e % save_every == 0 and valid_acc > best_acc:\n",
        "            torch.save(\n",
        "                model.state_dict(), f\"../6/model_epoch_{e}{naming}{valid_acc}.pth\"\n",
        "            )\n",
        "            best_acc = valid_acc"
      ]
    },
    {
      "cell_type": "markdown",
      "metadata": {
        "id": "mz48O-j-qTO7"
      },
      "source": [
        "Теперь тебе предстоит выбрать шедулер и его параметры. Как с ними быть?\n",
        "\n",
        "Обычно шедулер и его параметры выбирают такими, чтобы lr по мере обучения только снижался. Это помогает спуститься ещё глубже в минимум, что помогает качественно решить задачу.\n",
        "\n",
        "В PyTorch уже реализованы самые популярные шедулеры, например: [CosineAnnealingLR](https://pytorch.org/docs/stable/generated/torch.optim.lr_scheduler.CosineAnnealingLR.html) (его идея объяснялась в ДЗ по оптимизации, но сейчас нужен только один цикл, чтобы lr снижался) или [LinearLR](https://pytorch.org/docs/stable/generated/torch.optim.lr_scheduler.LinearLR.html).\n",
        "\n",
        "Можешь выбрать любой другой [шедулер](https://pytorch.org/docs/stable/optim.html#)."
      ]
    },
    {
      "cell_type": "code",
      "execution_count": null,
      "metadata": {
        "id": "T28AoE1ptS3M"
      },
      "outputs": [],
      "source": [
        "# Инициализируем модель\n",
        "model = NormFCMNIST()\n",
        "optimizer = torch.optim.SGD(model.parameters(), lr=1e-1)\n",
        "loss = nn.CrossEntropyLoss() # Кросс-энтропия, самая популярная функция потерь для решения задачи классификации. Разбиралась на лекциях\n",
        "epochs = 30\n",
        "scheduler = torch.optim.lr_scheduler.StepLR(optimizer, step_size=30, gamma=0.01)\n",
        "device = 'cuda' if torch.cuda.is_available() else 'cpu'"
      ]
    },
    {
      "cell_type": "code",
      "execution_count": null,
      "metadata": {
        "id": "w6ur1vtBtS3N"
      },
      "outputs": [
        {
          "name": "stderr",
          "output_type": "stream",
          "text": [
            "100%|██████████| 937/937 [00:08<00:00, 104.36it/s]\n",
            "100%|██████████| 40/40 [00:00<00:00, 107.41it/s]\n"
          ]
        },
        {
          "name": "stdout",
          "output_type": "stream",
          "text": [
            "Эпоха: 0 | Train Loss 0.6685598221634346 | Val Loss 1.653244712948799 | Val_acc 0.5414\n"
          ]
        },
        {
          "name": "stderr",
          "output_type": "stream",
          "text": [
            "100%|██████████| 937/937 [00:09<00:00, 94.33it/s] \n",
            "100%|██████████| 40/40 [00:00<00:00, 104.77it/s]\n"
          ]
        },
        {
          "name": "stdout",
          "output_type": "stream",
          "text": [
            "Эпоха: 1 | Train Loss 0.6466911805350345 | Val Loss 1.6401594996452333 | Val_acc 0.5758\n"
          ]
        },
        {
          "name": "stderr",
          "output_type": "stream",
          "text": [
            "100%|██████████| 937/937 [00:10<00:00, 85.68it/s] \n",
            "100%|██████████| 40/40 [00:00<00:00, 95.94it/s]\n"
          ]
        },
        {
          "name": "stdout",
          "output_type": "stream",
          "text": [
            "Эпоха: 2 | Train Loss 0.6484708056378654 | Val Loss 1.6282865017652515 | Val_acc 0.5833\n"
          ]
        },
        {
          "name": "stderr",
          "output_type": "stream",
          "text": [
            "100%|██████████| 937/937 [00:08<00:00, 106.03it/s]\n",
            "100%|██████████| 40/40 [00:00<00:00, 113.09it/s]\n"
          ]
        },
        {
          "name": "stdout",
          "output_type": "stream",
          "text": [
            "Эпоха: 3 | Train Loss 0.647071445287228 | Val Loss 1.6550597071647644 | Val_acc 0.5496\n"
          ]
        },
        {
          "name": "stderr",
          "output_type": "stream",
          "text": [
            "100%|██████████| 937/937 [00:09<00:00, 99.73it/s] \n",
            "100%|██████████| 40/40 [00:00<00:00, 105.17it/s]\n"
          ]
        },
        {
          "name": "stdout",
          "output_type": "stream",
          "text": [
            "Эпоха: 4 | Train Loss 0.6476926847799357 | Val Loss 1.6368867099285127 | Val_acc 0.5776\n"
          ]
        },
        {
          "name": "stderr",
          "output_type": "stream",
          "text": [
            "100%|██████████| 937/937 [00:09<00:00, 99.66it/s] \n",
            "100%|██████████| 40/40 [00:00<00:00, 103.55it/s]\n"
          ]
        },
        {
          "name": "stdout",
          "output_type": "stream",
          "text": [
            "Эпоха: 5 | Train Loss 0.6474484029040141 | Val Loss 1.6568368047475814 | Val_acc 0.5456\n"
          ]
        },
        {
          "name": "stderr",
          "output_type": "stream",
          "text": [
            "100%|██████████| 937/937 [00:09<00:00, 98.87it/s] \n",
            "100%|██████████| 40/40 [00:00<00:00, 106.72it/s]\n"
          ]
        },
        {
          "name": "stdout",
          "output_type": "stream",
          "text": [
            "Эпоха: 6 | Train Loss 0.6478068894103344 | Val Loss 1.6258805990219114 | Val_acc 0.5987\n"
          ]
        },
        {
          "name": "stderr",
          "output_type": "stream",
          "text": [
            "100%|██████████| 937/937 [00:09<00:00, 97.21it/s] \n",
            "100%|██████████| 40/40 [00:00<00:00, 106.60it/s]\n"
          ]
        },
        {
          "name": "stdout",
          "output_type": "stream",
          "text": [
            "Эпоха: 7 | Train Loss 0.6481205770783643 | Val Loss 1.647583219408989 | Val_acc 0.5535\n"
          ]
        },
        {
          "name": "stderr",
          "output_type": "stream",
          "text": [
            "100%|██████████| 937/937 [00:09<00:00, 99.30it/s] \n",
            "100%|██████████| 40/40 [00:00<00:00, 103.49it/s]\n"
          ]
        },
        {
          "name": "stdout",
          "output_type": "stream",
          "text": [
            "Эпоха: 8 | Train Loss 0.6488506027130587 | Val Loss 1.6520270168781277 | Val_acc 0.5509\n"
          ]
        },
        {
          "name": "stderr",
          "output_type": "stream",
          "text": [
            "100%|██████████| 937/937 [00:09<00:00, 97.97it/s] \n",
            "100%|██████████| 40/40 [00:00<00:00, 105.29it/s]\n"
          ]
        },
        {
          "name": "stdout",
          "output_type": "stream",
          "text": [
            "Эпоха: 9 | Train Loss 0.6488858824923808 | Val Loss 1.6874614983797074 | Val_acc 0.493\n"
          ]
        },
        {
          "name": "stderr",
          "output_type": "stream",
          "text": [
            "100%|██████████| 937/937 [00:09<00:00, 99.28it/s] \n",
            "100%|██████████| 40/40 [00:00<00:00, 103.89it/s]\n"
          ]
        },
        {
          "name": "stdout",
          "output_type": "stream",
          "text": [
            "Эпоха: 10 | Train Loss 0.6480077247482234 | Val Loss 1.6535715907812114 | Val_acc 0.5635\n"
          ]
        },
        {
          "name": "stderr",
          "output_type": "stream",
          "text": [
            "100%|██████████| 937/937 [00:08<00:00, 104.52it/s]\n",
            "100%|██████████| 40/40 [00:00<00:00, 101.37it/s]\n"
          ]
        },
        {
          "name": "stdout",
          "output_type": "stream",
          "text": [
            "Эпоха: 11 | Train Loss 0.647950360239379 | Val Loss 1.6696547150611882 | Val_acc 0.5248\n"
          ]
        },
        {
          "name": "stderr",
          "output_type": "stream",
          "text": [
            "100%|██████████| 937/937 [00:09<00:00, 98.66it/s] \n",
            "100%|██████████| 40/40 [00:00<00:00, 69.51it/s]\n"
          ]
        },
        {
          "name": "stdout",
          "output_type": "stream",
          "text": [
            "Эпоха: 12 | Train Loss 0.6496194636999867 | Val Loss 1.629892921447754 | Val_acc 0.5753\n"
          ]
        },
        {
          "name": "stderr",
          "output_type": "stream",
          "text": [
            "100%|██████████| 937/937 [00:09<00:00, 93.76it/s] \n",
            "100%|██████████| 40/40 [00:00<00:00, 81.11it/s]\n"
          ]
        },
        {
          "name": "stdout",
          "output_type": "stream",
          "text": [
            "Эпоха: 13 | Train Loss 0.6469876635163668 | Val Loss 1.6437001675367355 | Val_acc 0.5487\n"
          ]
        },
        {
          "name": "stderr",
          "output_type": "stream",
          "text": [
            "100%|██████████| 937/937 [00:09<00:00, 99.31it/s] \n",
            "100%|██████████| 40/40 [00:00<00:00, 107.03it/s]\n"
          ]
        },
        {
          "name": "stdout",
          "output_type": "stream",
          "text": [
            "Эпоха: 14 | Train Loss 0.648769130542668 | Val Loss 1.650921174883842 | Val_acc 0.5459\n"
          ]
        },
        {
          "name": "stderr",
          "output_type": "stream",
          "text": [
            "100%|██████████| 937/937 [00:08<00:00, 114.21it/s]\n",
            "100%|██████████| 40/40 [00:00<00:00, 113.99it/s]\n"
          ]
        },
        {
          "name": "stdout",
          "output_type": "stream",
          "text": [
            "Эпоха: 15 | Train Loss 0.6470129083734696 | Val Loss 1.6753425896167757 | Val_acc 0.5189\n"
          ]
        },
        {
          "name": "stderr",
          "output_type": "stream",
          "text": [
            "100%|██████████| 937/937 [00:08<00:00, 116.08it/s]\n",
            "100%|██████████| 40/40 [00:00<00:00, 113.50it/s]\n"
          ]
        },
        {
          "name": "stdout",
          "output_type": "stream",
          "text": [
            "Эпоха: 16 | Train Loss 0.6480713637750457 | Val Loss 1.6538789898157118 | Val_acc 0.5608\n"
          ]
        },
        {
          "name": "stderr",
          "output_type": "stream",
          "text": [
            "100%|██████████| 937/937 [00:09<00:00, 98.14it/s] \n",
            "100%|██████████| 40/40 [00:00<00:00, 112.47it/s]\n"
          ]
        },
        {
          "name": "stdout",
          "output_type": "stream",
          "text": [
            "Эпоха: 17 | Train Loss 0.6471372890179794 | Val Loss 1.653349521756172 | Val_acc 0.5291\n"
          ]
        },
        {
          "name": "stderr",
          "output_type": "stream",
          "text": [
            "100%|██████████| 937/937 [00:08<00:00, 106.18it/s]\n",
            "100%|██████████| 40/40 [00:00<00:00, 107.55it/s]\n"
          ]
        },
        {
          "name": "stdout",
          "output_type": "stream",
          "text": [
            "Эпоха: 18 | Train Loss 0.6482759924683026 | Val Loss 1.6607100814580915 | Val_acc 0.5331\n"
          ]
        },
        {
          "name": "stderr",
          "output_type": "stream",
          "text": [
            "100%|██████████| 937/937 [00:09<00:00, 100.97it/s]\n",
            "100%|██████████| 40/40 [00:00<00:00, 96.80it/s]\n"
          ]
        },
        {
          "name": "stdout",
          "output_type": "stream",
          "text": [
            "Эпоха: 19 | Train Loss 0.6475284614837797 | Val Loss 1.654595673084259 | Val_acc 0.5462\n"
          ]
        },
        {
          "name": "stderr",
          "output_type": "stream",
          "text": [
            "100%|██████████| 937/937 [00:09<00:00, 99.76it/s] \n",
            "100%|██████████| 40/40 [00:00<00:00, 113.44it/s]\n"
          ]
        },
        {
          "name": "stdout",
          "output_type": "stream",
          "text": [
            "Эпоха: 20 | Train Loss 0.6470327652124103 | Val Loss 1.6592928081750864 | Val_acc 0.5353\n"
          ]
        },
        {
          "name": "stderr",
          "output_type": "stream",
          "text": [
            "100%|██████████| 937/937 [00:08<00:00, 110.03it/s]\n",
            "100%|██████████| 40/40 [00:00<00:00, 111.34it/s]\n"
          ]
        },
        {
          "name": "stdout",
          "output_type": "stream",
          "text": [
            "Эпоха: 21 | Train Loss 0.6474395606471994 | Val Loss 1.6600440889596944 | Val_acc 0.5259\n"
          ]
        },
        {
          "name": "stderr",
          "output_type": "stream",
          "text": [
            "100%|██████████| 937/937 [00:08<00:00, 113.17it/s]\n",
            "100%|██████████| 40/40 [00:00<00:00, 110.33it/s]\n"
          ]
        },
        {
          "name": "stdout",
          "output_type": "stream",
          "text": [
            "Эпоха: 22 | Train Loss 0.6473906476571439 | Val Loss 1.6486251711845397 | Val_acc 0.5433\n"
          ]
        },
        {
          "name": "stderr",
          "output_type": "stream",
          "text": [
            "100%|██████████| 937/937 [00:08<00:00, 109.36it/s]\n",
            "100%|██████████| 40/40 [00:00<00:00, 114.82it/s]\n"
          ]
        },
        {
          "name": "stdout",
          "output_type": "stream",
          "text": [
            "Эпоха: 23 | Train Loss 0.6489648757583949 | Val Loss 1.6482252687215808 | Val_acc 0.5439\n"
          ]
        },
        {
          "name": "stderr",
          "output_type": "stream",
          "text": [
            "100%|██████████| 937/937 [00:08<00:00, 107.86it/s]\n",
            "100%|██████████| 40/40 [00:00<00:00, 102.05it/s]\n"
          ]
        },
        {
          "name": "stdout",
          "output_type": "stream",
          "text": [
            "Эпоха: 24 | Train Loss 0.6482819164829805 | Val Loss 1.6571022540330884 | Val_acc 0.5246\n"
          ]
        },
        {
          "name": "stderr",
          "output_type": "stream",
          "text": [
            "100%|██████████| 937/937 [00:09<00:00, 103.56it/s]\n",
            "100%|██████████| 40/40 [00:00<00:00, 110.16it/s]\n"
          ]
        },
        {
          "name": "stdout",
          "output_type": "stream",
          "text": [
            "Эпоха: 25 | Train Loss 0.6482913464530421 | Val Loss 1.6626035600900648 | Val_acc 0.5299\n"
          ]
        },
        {
          "name": "stderr",
          "output_type": "stream",
          "text": [
            "100%|██████████| 937/937 [00:08<00:00, 109.40it/s]\n",
            "100%|██████████| 40/40 [00:00<00:00, 99.80it/s] \n"
          ]
        },
        {
          "name": "stdout",
          "output_type": "stream",
          "text": [
            "Эпоха: 26 | Train Loss 0.6484445278138211 | Val Loss 1.6501975208520887 | Val_acc 0.5638\n"
          ]
        },
        {
          "name": "stderr",
          "output_type": "stream",
          "text": [
            "100%|██████████| 937/937 [00:10<00:00, 88.06it/s] \n",
            "100%|██████████| 40/40 [00:00<00:00, 81.30it/s]\n"
          ]
        },
        {
          "name": "stdout",
          "output_type": "stream",
          "text": [
            "Эпоха: 27 | Train Loss 0.6477318499614998 | Val Loss 1.6522908180952074 | Val_acc 0.5314\n"
          ]
        },
        {
          "name": "stderr",
          "output_type": "stream",
          "text": [
            "100%|██████████| 937/937 [00:08<00:00, 105.08it/s]\n",
            "100%|██████████| 40/40 [00:00<00:00, 108.57it/s]\n"
          ]
        },
        {
          "name": "stdout",
          "output_type": "stream",
          "text": [
            "Эпоха: 28 | Train Loss 0.6494006668172756 | Val Loss 1.6605851680040358 | Val_acc 0.5327\n"
          ]
        },
        {
          "name": "stderr",
          "output_type": "stream",
          "text": [
            "100%|██████████| 937/937 [00:10<00:00, 90.51it/s] \n",
            "100%|██████████| 40/40 [00:00<00:00, 92.52it/s]\n"
          ]
        },
        {
          "name": "stdout",
          "output_type": "stream",
          "text": [
            "Эпоха: 29 | Train Loss 0.6492130986336332 | Val Loss 1.6563156634569172 | Val_acc 0.5451\n"
          ]
        }
      ],
      "source": [
        "# Запусти обучение\n",
        "train_and_validate(epochs, model, loss, optimizer, device, train_dl, test_dl, naming='_sched', scheduler=scheduler) # Нейминг опять другой"
      ]
    },
    {
      "cell_type": "markdown",
      "metadata": {
        "id": "K0vH1MTlf84t"
      },
      "source": [
        "> **Важно.** Не забудь сохранить веса лучшей модели!"
      ]
    },
    {
      "cell_type": "markdown",
      "metadata": {
        "id": "n8LS4bOXuKm3"
      },
      "source": [
        "Полчилось ли улучшить качество? Почему такой результат? Что можешь сказать про переобучение?"
      ]
    },
    {
      "cell_type": "markdown",
      "metadata": {},
      "source": [
        "В целом на мой взгляд получается, что мы слишком сильно регуляризируем из за чего нормально мы ничего не оптимизируем. Шедулер особо погоды не делает т.к мы не доходим до глобального минимума."
      ]
    }
  ],
  "metadata": {
    "colab": {
      "provenance": []
    },
    "kernelspec": {
      "display_name": ".venv",
      "language": "python",
      "name": "python3"
    },
    "language_info": {
      "codemirror_mode": {
        "name": "ipython",
        "version": 3
      },
      "file_extension": ".py",
      "mimetype": "text/x-python",
      "name": "python",
      "nbconvert_exporter": "python",
      "pygments_lexer": "ipython3",
      "version": "3.10.12"
    }
  },
  "nbformat": 4,
  "nbformat_minor": 0
}
